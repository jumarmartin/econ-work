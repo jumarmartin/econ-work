{
 "cells": [
  {
   "cell_type": "code",
   "execution_count": null,
   "id": "d65fbf65",
   "metadata": {
    "vscode": {
     "languageId": "r"
    }
   },
   "outputs": [],
   "source": [
    "# install stuff, set scientific variables to 999 to avoid scientific notation\n",
    "if (!require(\"pacman\")) install.packages(\"pacman\")\n",
    "pacman::p_load(WDI, tidyr, car, lmtest, robustbase, MASS, dplyr, knitr, broom)\n"
   ]
  },
  {
   "cell_type": "code",
   "execution_count": null,
   "id": "5e987de0",
   "metadata": {
    "vscode": {
     "languageId": "r"
    }
   },
   "outputs": [],
   "source": [
    "options(scipen = 999)\n"
   ]
  },
  {
   "cell_type": "code",
   "execution_count": null,
   "id": "6eb74a3b",
   "metadata": {
    "vscode": {
     "languageId": "r"
    }
   },
   "outputs": [],
   "source": [
    "# get all of the WDI indicators if indicator file is not already downloaded\n",
    "indicators <- if (file.exists(\"indicators.csv\")) {\n",
    "    read.csv(\"indicators.csv\")\n",
    "} else {\n",
    "    WDI(indicator = c(\n",
    "        \"SL.EMP.TOTL.SP.ZS\", \"SE.XPD.TOTL.GD.ZS\", \"NY.GDP.PCAP.CD\",\n",
    "        \"SM.POP.NETM\", \"SE.TER.CUAT.BA.ZS\", \"SP.POP.TOTL\", \"IP.PAT.RESD\"\n",
    "    ), country = \"all\") %>%\n",
    "        write.csv(\"indicators.csv\")\n",
    "}\n",
    "# rename the columns\n",
    "wdi_indicators <- rename(\n",
    "    indicators,\n",
    "    c(\n",
    "        \"Country Code\" = \"iso3c\", \"Total Employment\" = \"SL.EMP.TOTL.SP.ZS\",\n",
    "        \"Education Expenditure % of GDP\" = \"SE.XPD.TOTL.GD.ZS\", \"GDP per capita\" = \"NY.GDP.PCAP.CD\",\n",
    "        \"Net Migration\" = \"SM.POP.NETM\", \"PCT Tertiary Education\" = \"SE.TER.CUAT.BA.ZS\",\n",
    "        \"Total Population\" = \"SP.POP.TOTL\", \"PatentsByResidents\" = \"IP.PAT.RESD\"\n",
    "    )\n",
    ")\n"
   ]
  },
  {
   "cell_type": "code",
   "execution_count": null,
   "id": "f47c60b0",
   "metadata": {
    "vscode": {
     "languageId": "r"
    }
   },
   "outputs": [],
   "source": [
    "gii <- read.csv(\"./gii_analysis/gii_2013_2020.csv\")\n",
    "# filter out the rows where the indicator is \"Global Innovation Index\" and the subindicator type is \"Score\"\n",
    "gii_score <- gii %>%\n",
    "    filter(\n",
    "        Indicator == \"Global Innovation Index\",\n",
    "        Subindicator.Type == \"Score (0-100)\"\n",
    "    )\n",
    "gii_score <- gii_score %>%\n",
    "    gather(year, value, X2013:X2020) %>%\n",
    "    select(-Indicator, -Indicator.Id, -Country.Name) %>%\n",
    "    spread(Subindicator.Type, value)\n",
    "gii_score <- rename(gii_score, c(\"Score\" = \"Score (0-100)\"))\n",
    "\n",
    "# filter out the rows where the indicator is \"Global Innovation Index\" and the subindicator type is \"Rank\"\n",
    "gii_rank <- gii %>%\n",
    "    filter(Indicator == \"Global Innovation Index\", Subindicator.Type == \"Rank\")\n",
    "gii_rank <- gii_rank %>%\n",
    "    gather(year, value, X2013:X2020) %>%\n",
    "    select(-Indicator, -Country.Name, -Indicator.Id) %>%\n",
    "    spread(Subindicator.Type, value)\n",
    "\n",
    "# merge into one dataframe\n",
    "gii_rank_score <- merge(gii_score, gii_rank, by = c(\"Country.ISO3\", \"year\"))\n",
    "# remove the X from the year column and convert to integer\n",
    "gii_rank_score$year <- as.integer(gsub(\"X\", \"\", gii_rank_score$year))\n"
   ]
  },
  {
   "cell_type": "code",
   "execution_count": null,
   "id": "8fb0922d",
   "metadata": {
    "vscode": {
     "languageId": "r"
    }
   },
   "outputs": [],
   "source": [
    "# merge gii_rank_score with wdi_indicators\n",
    "gii_wdi <- gii_rank_score %>% right_join(wdi_indicators, by = c(\"Country.ISO3\" = \"Country Code\", \"year\" = \"year\"))\n",
    "# rename the columns\n",
    "gii_wdi <- gii_wdi %>%\n",
    "    rename(c(\n",
    "        \"CountryCode\" = \"Country.ISO3\", \"Year\" = \"year\", \"Edu\" = \"PCT Tertiary Education\",\n",
    "        \"Mig\" = \"Net Migration\", \"EduExp\" = \"Education Expenditure % of GDP\", \"TotEmp\" = \"Total Employment\",\n",
    "        \"TotPop\" = \"Total Population\", \"Pat\" = \"PatentsByResidents\", \"GdpPerCap\" = \"GDP per capita\"\n",
    "    )) %>%\n",
    "    select(\"Year\", \"CountryCode\", \"Score\", \"Rank\", \"Edu\", \"Mig\", \"EduExp\", \"TotEmp\", \"TotPop\", \"Pat\", \"GdpPerCap\") %>%\n",
    "    arrange(CountryCode, Year) %>%\n",
    "    filter(!(CountryCode == \"\"))\n",
    "\n",
    "# write out gii_wdi to csv if it doesn't already exist\n",
    "if (!file.exists(\"./gii_analysis/gii_wdi.csv\")) write.csv(gii_wdi, \"./gii_analysis/gii_wdi.csv\")\n",
    "\n",
    "# lag everything.\n",
    "gii_wdi <- gii_wdi %>%\n",
    "    group_by(CountryCode) %>%\n",
    "    mutate(lag.Mig01 = lag(Mig, n = 1, default = NA)) %>%\n",
    "    mutate(lag.Mig05 = lag(Mig, n = 5, default = NA)) %>%\n",
    "    mutate(lag.Mig10 = lag(Mig, n = 10, default = NA)) %>%\n",
    "    mutate(lag.Mig20 = lag(Mig, n = 20, default = NA)) %>%\n",
    "    mutate(lag.Edu01 = lag(Edu, n = 1, default = NA)) %>%\n",
    "    mutate(lag.Edu05 = lag(Edu, n = 5, default = NA)) %>%\n",
    "    mutate(lag.Edu10 = lag(Edu, n = 10, default = NA)) %>%\n",
    "    mutate(lag.Edu20 = lag(Edu, n = 20, default = NA)) %>%\n",
    "    mutate(lag.EduExp01 = lag(EduExp, n = 1, default = NA)) %>%\n",
    "    mutate(lag.EduExp05 = lag(EduExp, n = 5, default = NA)) %>%\n",
    "    mutate(lag.EduExp10 = lag(EduExp, n = 10, default = NA)) %>%\n",
    "    mutate(lag.EduExp20 = lag(EduExp, n = 20, default = NA)) %>%\n",
    "    mutate(lag.TotEmp01 = lag(TotEmp, n = 1, default = NA)) %>%\n",
    "    mutate(lag.TotEmp05 = lag(TotEmp, n = 5, default = NA)) %>%\n",
    "    mutate(lag.TotEmp10 = lag(TotEmp, n = 10, default = NA)) %>%\n",
    "    mutate(lag.TotEmp20 = lag(TotEmp, n = 20, default = NA)) %>%\n",
    "    mutate(lag.TotPop01 = lag(TotPop, n = 1, default = NA)) %>%\n",
    "    mutate(lag.TotPop05 = lag(TotPop, n = 5, default = NA)) %>%\n",
    "    mutate(lag.TotPop10 = lag(TotPop, n = 10, default = NA)) %>%\n",
    "    mutate(lag.TotPop20 = lag(TotPop, n = 20, default = NA))\n",
    "head(gii_wdi)\n",
    "\n",
    "# write out gii_wdi_lagged to csv if it doesn't already exist\n",
    "if (!file.exists(\"./gii_analysis/gii_wdi_lagged.csv\")) write.csv(gii_wdi, \"./gii_analysis/gii_wdi_lagged.csv\")\n"
   ]
  },
  {
   "cell_type": "code",
   "execution_count": null,
   "id": "22d186db",
   "metadata": {
    "vscode": {
     "languageId": "r"
    }
   },
   "outputs": [],
   "source": [
    "lag1_Edu_EduExp_Mig_TotEmp <- lm(Score ~ lag.Mig01 + lag.Edu01 + lag.TotEmp01 + lag.EduExp01, data = gii_wdi)\n",
    "vif(lag1_Edu_EduExp_Mig_TotEmp)\n",
    "bptest(lag1_Edu_EduExp_Mig_TotEmp)\n",
    "nobs(lag1_Edu_EduExp_Mig_TotEmp)\n",
    "summary(lag1_Edu_EduExp_Mig_TotEmp)\n"
   ]
  },
  {
   "cell_type": "code",
   "execution_count": null,
   "id": "def916a5",
   "metadata": {
    "vscode": {
     "languageId": "r"
    }
   },
   "outputs": [],
   "source": [
    "lag5_Edu_EduExp_Mig_TotEmp <- rlm(Score ~ lag.Mig05 + lag.Edu05 + lag.TotEmp05 + lag.EduExp05, data = gii_wdi)\n",
    "vif(lag5_Edu_EduExp_Mig_TotEmp)\n",
    "bptest(lag5_Edu_EduExp_Mig_TotEmp)\n",
    "nobs(lag5_Edu_EduExp_Mig_TotEmp)\n",
    "summary(lag5_Edu_EduExp_Mig_TotEmp)\n"
   ]
  },
  {
   "cell_type": "code",
   "execution_count": null,
   "id": "82d7d0b1-eb0f-41c0-891a-aa2678a41ddd",
   "metadata": {
    "vscode": {
     "languageId": "r"
    }
   },
   "outputs": [],
   "source": [
    "model4 <- rlm(Score ~ Mig + Edu + Mig:Edu, data = gii_wdi)\n",
    "nobs(model4)\n",
    "summary(model4)\n"
   ]
  },
  {
   "cell_type": "code",
   "execution_count": null,
   "id": "4aa0ac75-12e9-4e4e-9187-66df792f6b99",
   "metadata": {
    "tags": [],
    "vscode": {
     "languageId": "r"
    }
   },
   "outputs": [],
   "source": [
    "model5 <- lm(Score ~ Mig + EduExp + Mig:EduExp, data = gii_wdi)\n",
    "nobs(model5)\n",
    "summary(model5)\n"
   ]
  },
  {
   "cell_type": "code",
   "execution_count": null,
   "id": "b467bdd0",
   "metadata": {
    "vscode": {
     "languageId": "r"
    }
   },
   "outputs": [],
   "source": [
    "lag1_Edu_EduExp_Mig <- rlm(Score ~ lag.Edu01 + lag.EduExp01 + lag.Mig01, data = gii_wdi)\n",
    "vif(lag1_Edu_EduExp_Mig)\n",
    "bptest(lag1_Edu_EduExp_Mig)\n",
    "nobs(lag1_Edu_EduExp_Mig)\n",
    "summary(lag1_Edu_EduExp_Mig)\n"
   ]
  },
  {
   "cell_type": "code",
   "execution_count": null,
   "id": "a9e80ae5",
   "metadata": {
    "vscode": {
     "languageId": "r"
    }
   },
   "outputs": [],
   "source": [
    "lag5_Edu_EduExp_Mig <- rlm(Score ~ lag.Edu05 + lag.EduExp05 + lag.Mig05, data = gii_wdi)\n",
    "vif(lag5_Edu_EduExp_Mig)\n",
    "Anova(lag5_Edu_EduExp_Mig)\n",
    "bptest(lag5_Edu_EduExp_Mig)\n",
    "nobs(lag5_Edu_EduExp_Mig)\n",
    "summary(lag5_Edu_EduExp_Mig)\n"
   ]
  },
  {
   "attachments": {},
   "cell_type": "markdown",
   "id": "8218a68b",
   "metadata": {},
   "source": [
    "There is a ton of heteroskedasticity so we have to log the dependent variable in an atttempt to defeat such\n"
   ]
  },
  {
   "cell_type": "code",
   "execution_count": null,
   "id": "90bf68ee",
   "metadata": {
    "vscode": {
     "languageId": "r"
    }
   },
   "outputs": [],
   "source": [
    "# # log score\n",
    "# log_lag5_Edu_EduExp_Mig <- rlm(log(Pat) ~ Pat + Mig, data = gii_wdi)\n",
    "# nobs(log_lag5_Edu_EduExp_Mig)\n",
    "# Anova(log_lag5_Edu_EduExp_Mig)\n",
    "# car::vif(log_lag5_Edu_EduExp_Mig)\n",
    "# lmtest::bptest(log_lag5_Edu_EduExp_Mig)\n",
    "# summary(log_lag5_Edu_EduExp_Mig)\n",
    "# coeftest(log_lag5_Edu_EduExp_Mig)\n",
    "# plot(log_lag5_Edu_EduExp_Mig)\n",
    "pat_lagMig <- rlm(log(Score) ~ Edu + lag.Mig20, data = gii_wdi)\n",
    "nobs(pat_lagMig)\n",
    "vif(pat_lagMig)\n",
    "Anova(pat_lagMig)\n",
    "coeftest(pat_lagMig)\n"
   ]
  },
  {
   "cell_type": "code",
   "execution_count": null,
   "id": "c67eac47",
   "metadata": {
    "vscode": {
     "languageId": "r"
    }
   },
   "outputs": [],
   "source": [
    "rl <- rlm(log(Score) ~ lag.Mig05, data = gii_wdi)\n",
    "nobs(rl)\n",
    "summary(rl)\n",
    "plot(rl)\n"
   ]
  },
  {
   "cell_type": "code",
   "execution_count": null,
   "id": "b1e6bec4",
   "metadata": {
    "vscode": {
     "languageId": "r"
    }
   },
   "outputs": [],
   "source": [
    "log_everything_score_Mig05 <- rlm(log(Score) ~ log(Edu) + log(EduExp) + log(lag.Mig05) + log(TotEmp) + log(TotPop), data = gii_wdi)\n",
    "nobs(log_everything_score_Mig05)\n",
    "vif(log_everything_score_Mig05)\n",
    "Anova(log_everything_score_Mig05)\n",
    "bptest(log_everything_score_Mig05)\n",
    "summary(log_everything_score_Mig05)\n",
    "coeftest(log_everything_score_Mig05)\n",
    "plot(log_everything_score_Mig05)"
   ]
  },
  {
   "cell_type": "code",
   "execution_count": null,
   "id": "1c6ad20e",
   "metadata": {
    "vscode": {
     "languageId": "r"
    }
   },
   "outputs": [],
   "source": [
    "log_everything_score_Mig01 <- rlm(log(Score) ~ log(Edu) + log(EduExp) + log(lag.Mig01) + log(TotEmp) + log(TotPop), data = gii_wdi)\n",
    "nobs(log_everything_score_Mig01)\n",
    "vif(log_everything_score_Mig01)\n",
    "Anova(log_everything_score_Mig01)\n",
    "bptest(log_everything_score_Mig01)\n",
    "summary(log_everything_score_Mig01)\n",
    "coeftest(log_everything_score_Mig01)\n",
    "plot(log_everything_score_Mig01)"
   ]
  },
  {
   "cell_type": "code",
   "execution_count": null,
   "id": "8f4dc64e",
   "metadata": {
    "vscode": {
     "languageId": "r"
    }
   },
   "outputs": [],
   "source": [
    "log_everything_score_Mig10 <- rlm(log(Score) ~ log(Edu) + log(EduExp) + log(lag.Mig10) + log(TotEmp) + log(TotPop), data = gii_wdi)\n",
    "nobs(log_everything_score_Mig10)\n",
    "vif(log_everything_score_Mig10)\n",
    "Anova(log_everything_score_Mig10)\n",
    "bptest(log_everything_score_Mig10)\n",
    "summary(log_everything_score_Mig10)\n",
    "coeftest(log_everything_score_Mig10)\n",
    "plot(log_everything_score_Mig10)"
   ]
  },
  {
   "cell_type": "code",
   "execution_count": null,
   "id": "ab867286",
   "metadata": {
    "vscode": {
     "languageId": "r"
    }
   },
   "outputs": [],
   "source": []
  }
 ],
 "metadata": {
  "kernelspec": {
   "display_name": "R",
   "language": "R",
   "name": "ir"
  },
  "language_info": {
   "codemirror_mode": "r",
   "file_extension": ".r",
   "mimetype": "text/x-r-source",
   "name": "R",
   "pygments_lexer": "r",
   "version": "4.2.2"
  },
  "vscode": {
   "interpreter": {
    "hash": "1a1af0ee75eeea9e2e1ee996c87e7a2b11a0bebd85af04bb136d915cefc0abce"
   }
  }
 },
 "nbformat": 4,
 "nbformat_minor": 5
}
