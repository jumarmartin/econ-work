{
 "cells": [
  {
   "cell_type": "code",
   "execution_count": 298,
   "id": "d65fbf65",
   "metadata": {
    "vscode": {
     "languageId": "r"
    }
   },
   "outputs": [],
   "source": [
    "# install stuff, set scientific variables to 999 to avoid scientific notation\n",
    "if (!require(\"pacman\")) install.packages(\"pacman\")\n",
    "pacman::p_load(IRdisplay, WDI, tidyr, car, lmtest, psych, robustbase, MASS, dplyr, knitr, broom)\n"
   ]
  },
  {
   "cell_type": "code",
   "execution_count": 299,
   "id": "5e987de0",
   "metadata": {
    "vscode": {
     "languageId": "r"
    }
   },
   "outputs": [],
   "source": [
    "options(scipen = 999)\n"
   ]
  },
  {
   "cell_type": "code",
   "execution_count": 300,
   "id": "6eb74a3b",
   "metadata": {
    "vscode": {
     "languageId": "r"
    }
   },
   "outputs": [],
   "source": [
    "# get all of the WDI indicators if indicator file is not already downloaded\n",
    "indicators <- if (file.exists(\"indicators.csv\")) {\n",
    "    read.csv(\"indicators.csv\")\n",
    "} else {\n",
    "    WDI(indicator = c(\n",
    "        \"SL.EMP.TOTL.SP.ZS\",\n",
    "        \"SE.XPD.TOTL.GD.ZS\",\n",
    "        \"NY.GDP.PCAP.CD\",\n",
    "        \"SM.POP.NETM\",\n",
    "        \"SM.POP.TOTL.ZS\",\n",
    "        \"SE.TER.CUAT.BA.ZS\",\n",
    "        \"SP.POP.TOTL\",\n",
    "        \"IP.PAT.RESD\",\n",
    "        \"BX.TRF.PWKR.CD.DT\"\n",
    "    ), country = \"all\") %>%\n",
    "        write.csv(\"indicators.csv\")\n",
    "}\n",
    "# rename the columns\n",
    "wdi_indicators <- rename(\n",
    "    indicators,\n",
    "    c(\n",
    "        \"Country Code\" = \"iso3c\",\n",
    "        \"Total Employment\" = \"SL.EMP.TOTL.SP.ZS\",\n",
    "        \"Education Expenditure % of GDP\" = \"SE.XPD.TOTL.GD.ZS\",\n",
    "        \"GDP per capita\" = \"NY.GDP.PCAP.CD\",\n",
    "        \"Net Migration\" = \"SM.POP.NETM\",\n",
    "        \"PCT Tertiary Education\" = \"SE.TER.CUAT.BA.ZS\",\n",
    "        \"Total Population\" = \"SP.POP.TOTL\",\n",
    "        \"PatentsByResidents\" = \"IP.PAT.RESD\",\n",
    "        \"Total Migrant Population\" = \"SM.POP.TOTL.ZS\",\n",
    "        \"Remittances\" = \"BX.TRF.PWKR.CD.DT\"\n",
    "    )\n",
    ")\n"
   ]
  },
  {
   "cell_type": "code",
   "execution_count": 301,
   "id": "f47c60b0",
   "metadata": {
    "vscode": {
     "languageId": "r"
    }
   },
   "outputs": [],
   "source": [
    "gii <- read.csv(\"./gii_analysis/gii_2013_2020.csv\")\n",
    "# filter out the rows where the indicator is \"Global Innovation Index\" and the subindicator type is \"Score\"\n",
    "gii_score <- gii %>%\n",
    "    filter(\n",
    "        Indicator == \"Global Innovation Index\",\n",
    "        Subindicator.Type == \"Score (0-100)\"\n",
    "    )\n",
    "gii_score <- gii_score %>%\n",
    "    gather(year, value, X2013:X2020) %>%\n",
    "    select(-Indicator, -Indicator.Id, -Country.Name) %>%\n",
    "    spread(Subindicator.Type, value)\n",
    "gii_score <- rename(gii_score, c(\"Score\" = \"Score (0-100)\"))\n",
    "\n",
    "# filter out the rows where the indicator is \"Global Innovation Index\" and the subindicator type is \"Rank\"\n",
    "gii_rank <- gii %>%\n",
    "    filter(Indicator == \"Global Innovation Index\", Subindicator.Type == \"Rank\")\n",
    "gii_rank <- gii_rank %>%\n",
    "    gather(year, value, X2013:X2020) %>%\n",
    "    select(-Indicator, -Country.Name, -Indicator.Id) %>%\n",
    "    spread(Subindicator.Type, value)\n",
    "\n",
    "# merge into one dataframe\n",
    "gii_rank_score <- merge(gii_score, gii_rank, by = c(\"Country.ISO3\", \"year\"))\n",
    "# remove the X from the year column and convert to integer\n",
    "gii_rank_score$year <- as.integer(gsub(\"X\", \"\", gii_rank_score$year))\n"
   ]
  },
  {
   "cell_type": "code",
   "execution_count": 302,
   "id": "8fb0922d",
   "metadata": {
    "vscode": {
     "languageId": "r"
    }
   },
   "outputs": [],
   "source": [
    "# merge gii_rank_score with wdi_indicators\n",
    "gii_wdi <- gii_rank_score %>% right_join(wdi_indicators, by = c(\"Country.ISO3\" = \"Country Code\", \"year\" = \"year\"))\n",
    "# rename the columns\n",
    "gii_wdi <- gii_wdi %>%\n",
    "    rename(c(\n",
    "        \"CountryCode\" = \"Country.ISO3\", \"Year\" = \"year\", \"Edu\" = \"PCT Tertiary Education\",\n",
    "        \"Mig\" = \"Net Migration\", \"EduExp\" = \"Education Expenditure % of GDP\", \"TotEmp\" = \"Total Employment\",\n",
    "        \"TotPop\" = \"Total Population\", \"Pat\" = \"PatentsByResidents\", \"GdpPerCap\" = \"GDP per capita\", \"MigPop\" = \"Total Migrant Population\",\n",
    "        \"RemRecv\" = \"Remittances\"\n",
    "    )) %>%\n",
    "    select(\"Year\", \"CountryCode\", \"Score\", \"Rank\", \"Edu\", \"Mig\", \"EduExp\", \"TotEmp\", \"TotPop\", \"Pat\", \"GdpPerCap\", \"MigPop\", \"RemRecv\") %>%\n",
    "    arrange(CountryCode, Year) %>%\n",
    "    filter(!(CountryCode == \"\"))\n",
    "\n",
    "# write out gii_wdi to csv if it doesn't already exist\n",
    "if (!file.exists(\"./gii_analysis/gii_wdi.csv\")) write.csv(gii_wdi, \"./gii_analysis/gii_wdi.csv\")\n",
    "# describe(gii_wdi)\n",
    "# lag everything.\n",
    "gii_wdi <- gii_wdi %>%\n",
    "    group_by(CountryCode) %>%\n",
    "    mutate(lag.Mig01 = lag(Mig, n = 1, default = NA)) %>%\n",
    "    mutate(lag.Mig05 = lag(Mig, n = 5, default = NA)) %>%\n",
    "    mutate(lag.Mig10 = lag(Mig, n = 10, default = NA)) %>%\n",
    "    mutate(lag.Mig20 = lag(Mig, n = 20, default = NA)) %>%\n",
    "    mutate(lag.Edu01 = lag(Edu, n = 1, default = NA)) %>%\n",
    "    mutate(lag.Edu05 = lag(Edu, n = 5, default = NA)) %>%\n",
    "    mutate(lag.Edu10 = lag(Edu, n = 10, default = NA)) %>%\n",
    "    mutate(lag.Edu20 = lag(Edu, n = 20, default = NA)) %>%\n",
    "    mutate(lag.EduExp01 = lag(EduExp, n = 1, default = NA)) %>%\n",
    "    mutate(lag.EduExp05 = lag(EduExp, n = 5, default = NA)) %>%\n",
    "    mutate(lag.EduExp10 = lag(EduExp, n = 10, default = NA)) %>%\n",
    "    mutate(lag.EduExp20 = lag(EduExp, n = 20, default = NA)) %>%\n",
    "    mutate(lag.TotEmp01 = lag(TotEmp, n = 1, default = NA)) %>%\n",
    "    mutate(lag.TotEmp05 = lag(TotEmp, n = 5, default = NA)) %>%\n",
    "    mutate(lag.TotEmp10 = lag(TotEmp, n = 10, default = NA)) %>%\n",
    "    mutate(lag.TotEmp20 = lag(TotEmp, n = 20, default = NA)) %>%\n",
    "    mutate(lag.TotPop01 = lag(TotPop, n = 1, default = NA)) %>%\n",
    "    mutate(lag.TotPop05 = lag(TotPop, n = 5, default = NA)) %>%\n",
    "    mutate(lag.TotPop10 = lag(TotPop, n = 10, default = NA)) %>%\n",
    "    mutate(lag.TotPop20 = lag(TotPop, n = 20, default = NA)) %>%\n",
    "    mutate(lag.MigPop01 = lag(MigPop, n = 1, default = NA)) %>%\n",
    "    mutate(lag.MigPop05 = lag(MigPop, n = 5, default = NA)) %>%\n",
    "    mutate(lag.MigPop10 = lag(MigPop, n = 10, default = NA)) %>%\n",
    "    mutate(lag.MigPop20 = lag(MigPop, n = 20, default = NA))\n",
    "\n",
    "# head(gii_wdi)\n",
    "\n",
    "# write out gii_wdi_lagged to csv if it doesn't already exist\n",
    "if (!file.exists(\"./gii_analysis/gii_wdi_lagged.csv\")) write.csv(gii_wdi, \"./gii_analysis/gii_wdi_lagged.csv\")\n"
   ]
  },
  {
   "cell_type": "code",
   "execution_count": 303,
   "id": "22d186db",
   "metadata": {
    "vscode": {
     "languageId": "r"
    }
   },
   "outputs": [],
   "source": [
    "# lag1_Edu_EduExp_Mig_TotEmp <- lm(Score ~ lag.Mig01 + lag.Edu01 + lag.TotEmp01 + lag.EduExp01, data = gii_wdi)\n",
    "# vif(lag1_Edu_EduExp_Mig_TotEmp)\n",
    "# bptest(lag1_Edu_EduExp_Mig_TotEmp)\n",
    "# nobs(lag1_Edu_EduExp_Mig_TotEmp)\n",
    "# summary(lag1_Edu_EduExp_Mig_TotEmp)\n",
    "\n",
    "# lag5_Edu_EduExp_Mig_TotEmp <- rlm(Score ~ lag.Mig05 + lag.Edu05 + lag.TotEmp05 + lag.EduExp05, data = gii_wdi)\n",
    "# vif(lag5_Edu_EduExp_Mig_TotEmp)\n",
    "# bptest(lag5_Edu_EduExp_Mig_TotEmp)\n",
    "# nobs(lag5_Edu_EduExp_Mig_TotEmp)\n",
    "# summary(lag5_Edu_EduExp_Mig_TotEmp)\n",
    "\n",
    "# model4 <- rlm(Score ~ Mig + Edu + Mig:Edu, data = gii_wdi)\n",
    "# nobs(model4)\n",
    "# summary(model4)\n",
    "\n",
    "# model5 <- lm(Score ~ Mig + EduExp + Mig:EduExp, data = gii_wdi)\n",
    "# nobs(model5)\n",
    "# summary(model5)\n",
    "\n",
    "# lag1_Edu_EduExp_Mig <- rlm(Score ~ lag.Edu01 + lag.EduExp01 + lag.Mig01, data = gii_wdi)\n",
    "# vif(lag1_Edu_EduExp_Mig)\n",
    "# bptest(lag1_Edu_EduExp_Mig)\n",
    "# nobs(lag1_Edu_EduExp_Mig)\n",
    "# summary(lag1_Edu_EduExp_Mig)\n",
    "\n",
    "# lag5_Edu_EduExp_Mig <- rlm(Score ~ lag.Edu05 + lag.EduExp05 + lag.Mig05, data = gii_wdi)\n",
    "# vif(lag5_Edu_EduExp_Mig)\n",
    "# Anova(lag5_Edu_EduExp_Mig)\n",
    "# bptest(lag5_Edu_EduExp_Mig)\n",
    "# nobs(lag5_Edu_EduExp_Mig)\n",
    "# summary(lag5_Edu_EduExp_Mig)\n",
    "\n",
    "# There is a ton of heteroskedasticity so we have to log the dependent variable in an atttempt to defeat such\n",
    "\n",
    "# # log score\n",
    "# log_lag5_Edu_EduExp_Mig <- rlm(log(Pat) ~ Pat + Mig, data = gii_wdi)\n",
    "# nobs(log_lag5_Edu_EduExp_Mig)\n",
    "# Anova(log_lag5_Edu_EduExp_Mig)\n",
    "# car::vif(log_lag5_Edu_EduExp_Mig)\n",
    "# lmtest::bptest(log_lag5_Edu_EduExp_Mig)\n",
    "# summary(log_lag5_Edu_EduExp_Mig)\n",
    "# coeftest(log_lag5_Edu_EduExp_Mig)\n",
    "# plot(log_lag5_Edu_EduExp_Mig)\n",
    "# pat_lagMig <- rlm(log(Score) ~ Edu + lag.Mig20, data = gii_wdi)\n",
    "# nobs(pat_lagMig)\n",
    "# vif(pat_lagMig)\n",
    "# Anova(pat_lagMig)\n",
    "# coeftest(pat_lagMig)\n"
   ]
  },
  {
   "cell_type": "code",
   "execution_count": 319,
   "id": "c67eac47",
   "metadata": {
    "vscode": {
     "languageId": "r"
    }
   },
   "outputs": [],
   "source": [
    "generate_summaries <- function(linear_model) {\n",
    "    linear_model %>% display()\n",
    "    nobs(linear_model) %>% display()\n",
    "    vif(linear_model) %>% display()\n",
    "    Anova(linear_model) %>% display()\n",
    "    bptest(linear_model) %>% display()\n",
    "    coeftest(linear_model) %>% display()\n",
    "}"
   ]
  },
  {
   "cell_type": "code",
   "execution_count": 320,
   "id": "b5ab8e66",
   "metadata": {
    "vscode": {
     "languageId": "r"
    }
   },
   "outputs": [],
   "source": [
    "# Score goes up if migration goes up\n",
    "lagMig01 <- rlm((Score) ~  (EduExp) + (lag.Mig01)  + (TotEmp) + RemRecv + MigPop + log(TotPop), data = gii_wdi)\n",
    "lagMig05 <- rlm((Score) ~  (EduExp) + (lag.Mig05) + (MigPop) + (TotEmp) + log(TotPop), data = gii_wdi)\n",
    "lagMig10 <- rlm((Score) ~  (EduExp) + (lag.Mig10) + (MigPop) + (TotEmp) + log(TotPop), data = gii_wdi)\n",
    "lagMig20 <- rlm((Score) ~  (EduExp) + (lag.Mig20)+ (TotEmp) + MigPop + log(TotPop), data = gii_wdi)\n",
    "# patents should go up if net migration is positive\n",
    "pat01 <- rlm(log(Pat) ~ (EduExp) + (lag.Mig01)+ (TotEmp) + MigPop, data = gii_wdi)\n",
    "pat05 <- rlm(log(Pat) ~ (EduExp) + (lag.Mig05)+ (TotEmp) + MigPop, data = gii_wdi)\n",
    "pat10 <- rlm(log(Pat) ~ (EduExp) + (lag.Mig10)+ (TotEmp) + MigPop, data = gii_wdi)\n",
    "pat20 <- rlm(log(Pat) ~ (EduExp) + (lag.Mig20)+ (TotEmp) + MigPop, data = gii_wdi)\n",
    "# remittances recieved (if net migration is negative, then remittances recieved should be positive)\n",
    "remRecv01 <- rlm(log1p(RemRecv) ~ (EduExp) + (lag.Mig01)+ (TotEmp) + MigPop, data = gii_wdi)\n",
    "remRecv05 <- rlm(log1p(RemRecv) ~ (EduExp) + (lag.Mig05)+ (TotEmp) + MigPop, data = gii_wdi)\n",
    "remRecv10 <- rlm(log1p(RemRecv) ~ (EduExp) + (lag.Mig10)+ (TotEmp) + MigPop, data = gii_wdi)\n",
    "remRecv20 <- rlm(log1p(RemRecv) ~ (EduExp) + (lag.Mig20)+ (TotEmp) + MigPop, data = gii_wdi)"
   ]
  },
  {
   "cell_type": "code",
   "execution_count": 321,
   "id": "cc092dc7",
   "metadata": {
    "vscode": {
     "languageId": "r"
    }
   },
   "outputs": [
    {
     "data": {
      "text/plain": [
       "Call:\n",
       "rlm(formula = (Score) ~ (EduExp) + (lag.Mig01) + (TotEmp) + RemRecv + \n",
       "    MigPop + log(TotPop), data = gii_wdi)\n",
       "Converged in 8 iterations\n",
       "\n",
       "Coefficients:\n",
       "        (Intercept)              EduExp           lag.Mig01              TotEmp \n",
       "17.9520214775489144  1.5038062119858091  0.0000090417759835  0.0089736143070059 \n",
       "            RemRecv              MigPop         log(TotPop) \n",
       " 0.0000000002177717  0.7360422910912170  0.3243499837475142 \n",
       "\n",
       "Degrees of freedom: 129 total; 122 residual\n",
       "  (16053 observations deleted due to missingness)\n",
       "Scale estimate: 9.09 "
      ]
     },
     "metadata": {},
     "output_type": "display_data"
    },
    {
     "data": {
      "text/html": [
       "129"
      ],
      "text/latex": [
       "129"
      ],
      "text/markdown": [
       "129"
      ],
      "text/plain": [
       "[1] 129"
      ]
     },
     "metadata": {},
     "output_type": "display_data"
    },
    {
     "data": {
      "text/html": [
       "<style>\n",
       ".dl-inline {width: auto; margin:0; padding: 0}\n",
       ".dl-inline>dt, .dl-inline>dd {float: none; width: auto; display: inline-block}\n",
       ".dl-inline>dt::after {content: \":\\0020\"; padding-right: .5ex}\n",
       ".dl-inline>dt:not(:first-of-type) {padding-left: .5ex}\n",
       "</style><dl class=dl-inline><dt>EduExp</dt><dd>1.08695317114165</dd><dt>lag.Mig01</dt><dd>1.16906788177096</dd><dt>TotEmp</dt><dd>1.09947501592012</dd><dt>RemRecv</dt><dd>1.74832552485153</dd><dt>MigPop</dt><dd>1.13810302914744</dd><dt>log(TotPop)</dt><dd>1.83866664826285</dd></dl>\n"
      ],
      "text/latex": [
       "\\begin{description*}\n",
       "\\item[EduExp] 1.08695317114165\n",
       "\\item[lag.Mig01] 1.16906788177096\n",
       "\\item[TotEmp] 1.09947501592012\n",
       "\\item[RemRecv] 1.74832552485153\n",
       "\\item[MigPop] 1.13810302914744\n",
       "\\item[log(TotPop)] 1.83866664826285\n",
       "\\end{description*}\n"
      ],
      "text/markdown": [
       "EduExp\n",
       ":   1.08695317114165lag.Mig01\n",
       ":   1.16906788177096TotEmp\n",
       ":   1.09947501592012RemRecv\n",
       ":   1.74832552485153MigPop\n",
       ":   1.13810302914744log(TotPop)\n",
       ":   1.83866664826285\n",
       "\n"
      ],
      "text/plain": [
       "     EduExp   lag.Mig01      TotEmp     RemRecv      MigPop log(TotPop) \n",
       "   1.086953    1.169068    1.099475    1.748326    1.138103    1.838667 "
      ]
     },
     "metadata": {},
     "output_type": "display_data"
    },
    {
     "data": {
      "text/html": [
       "<table class=\"dataframe\">\n",
       "<caption>A anova: 7 × 3</caption>\n",
       "<thead>\n",
       "\t<tr><th></th><th scope=col>Df</th><th scope=col>F</th><th scope=col>Pr(&gt;F)</th></tr>\n",
       "\t<tr><th></th><th scope=col>&lt;dbl&gt;</th><th scope=col>&lt;dbl&gt;</th><th scope=col>&lt;dbl&gt;</th></tr>\n",
       "</thead>\n",
       "<tbody>\n",
       "\t<tr><th scope=row>EduExp</th><td>  1</td><td> 7.42484871</td><td>0.007378865565310205842</td></tr>\n",
       "\t<tr><th scope=row>lag.Mig01</th><td>  1</td><td> 6.64400485</td><td>0.011138657287306541130</td></tr>\n",
       "\t<tr><th scope=row>TotEmp</th><td>  1</td><td> 0.01106904</td><td>0.916382362520412607765</td></tr>\n",
       "\t<tr><th scope=row>RemRecv</th><td>  1</td><td> 2.75070886</td><td>0.099780217070986818029</td></tr>\n",
       "\t<tr><th scope=row>MigPop</th><td>  1</td><td>81.57238214</td><td>0.000000000000003072316</td></tr>\n",
       "\t<tr><th scope=row>log(TotPop)</th><td>  1</td><td> 0.23168200</td><td>0.631141648243460862133</td></tr>\n",
       "\t<tr><th scope=row>Residuals</th><td>122</td><td>         NA</td><td>                     NA</td></tr>\n",
       "</tbody>\n",
       "</table>\n"
      ],
      "text/latex": [
       "A anova: 7 × 3\n",
       "\\begin{tabular}{r|lll}\n",
       "  & Df & F & Pr(>F)\\\\\n",
       "  & <dbl> & <dbl> & <dbl>\\\\\n",
       "\\hline\n",
       "\tEduExp &   1 &  7.42484871 & 0.007378865565310205842\\\\\n",
       "\tlag.Mig01 &   1 &  6.64400485 & 0.011138657287306541130\\\\\n",
       "\tTotEmp &   1 &  0.01106904 & 0.916382362520412607765\\\\\n",
       "\tRemRecv &   1 &  2.75070886 & 0.099780217070986818029\\\\\n",
       "\tMigPop &   1 & 81.57238214 & 0.000000000000003072316\\\\\n",
       "\tlog(TotPop) &   1 &  0.23168200 & 0.631141648243460862133\\\\\n",
       "\tResiduals & 122 &          NA &                      NA\\\\\n",
       "\\end{tabular}\n"
      ],
      "text/markdown": [
       "\n",
       "A anova: 7 × 3\n",
       "\n",
       "| <!--/--> | Df &lt;dbl&gt; | F &lt;dbl&gt; | Pr(&gt;F) &lt;dbl&gt; |\n",
       "|---|---|---|---|\n",
       "| EduExp |   1 |  7.42484871 | 0.007378865565310205842 |\n",
       "| lag.Mig01 |   1 |  6.64400485 | 0.011138657287306541130 |\n",
       "| TotEmp |   1 |  0.01106904 | 0.916382362520412607765 |\n",
       "| RemRecv |   1 |  2.75070886 | 0.099780217070986818029 |\n",
       "| MigPop |   1 | 81.57238214 | 0.000000000000003072316 |\n",
       "| log(TotPop) |   1 |  0.23168200 | 0.631141648243460862133 |\n",
       "| Residuals | 122 |          NA |                      NA |\n",
       "\n"
      ],
      "text/plain": [
       "            Df  F           Pr(>F)                 \n",
       "EduExp        1  7.42484871 0.007378865565310205842\n",
       "lag.Mig01     1  6.64400485 0.011138657287306541130\n",
       "TotEmp        1  0.01106904 0.916382362520412607765\n",
       "RemRecv       1  2.75070886 0.099780217070986818029\n",
       "MigPop        1 81.57238214 0.000000000000003072316\n",
       "log(TotPop)   1  0.23168200 0.631141648243460862133\n",
       "Residuals   122          NA                      NA"
      ]
     },
     "metadata": {},
     "output_type": "display_data"
    },
    {
     "data": {
      "text/plain": [
       "\n",
       "\tstudentized Breusch-Pagan test\n",
       "\n",
       "data:  linear_model\n",
       "BP = 40.427, df = 6, p-value = 0.0000003754\n"
      ]
     },
     "metadata": {},
     "output_type": "display_data"
    },
    {
     "data": {
      "text/plain": [
       "\n",
       "z test of coefficients:\n",
       "\n",
       "                     Estimate        Std. Error z value              Pr(>|z|)\n",
       "(Intercept) 17.95202147754891 11.65751846507363  1.5400              0.123572\n",
       "EduExp       1.50380621198581  0.55188433890384  2.7249              0.006433\n",
       "lag.Mig01    0.00000904177598  0.00000350783189  2.5776              0.009949\n",
       "TotEmp       0.00897361430701  0.08529282165581  0.1052              0.916210\n",
       "RemRecv      0.00000000021777  0.00000000013130  1.6585              0.097211\n",
       "MigPop       0.73604229109122  0.08149504350679  9.0317 < 0.00000000000000022\n",
       "log(TotPop)  0.32434998374751  0.67385697973250  0.4813              0.630279\n",
       "               \n",
       "(Intercept)    \n",
       "EduExp      ** \n",
       "lag.Mig01   ** \n",
       "TotEmp         \n",
       "RemRecv     .  \n",
       "MigPop      ***\n",
       "log(TotPop)    \n",
       "---\n",
       "Signif. codes:  0 ‘***’ 0.001 ‘**’ 0.01 ‘*’ 0.05 ‘.’ 0.1 ‘ ’ 1\n"
      ]
     },
     "metadata": {},
     "output_type": "display_data"
    }
   ],
   "source": [
    "generate_summaries(lagMig01)"
   ]
  },
  {
   "cell_type": "code",
   "execution_count": 322,
   "id": "cbdc698d",
   "metadata": {
    "vscode": {
     "languageId": "r"
    }
   },
   "outputs": [
    {
     "data": {
      "text/plain": [
       "Call:\n",
       "rlm(formula = (Score) ~ (EduExp) + (lag.Mig05) + (MigPop) + (TotEmp) + \n",
       "    log(TotPop), data = gii_wdi)\n",
       "Converged in 13 iterations\n",
       "\n",
       "Coefficients:\n",
       "   (Intercept)         EduExp      lag.Mig05         MigPop         TotEmp \n",
       "18.29061579295  1.63836961240  0.00002656165  0.39701371625 -0.06053234779 \n",
       "   log(TotPop) \n",
       " 0.68525775213 \n",
       "\n",
       "Degrees of freedom: 132 total; 126 residual\n",
       "  (16050 observations deleted due to missingness)\n",
       "Scale estimate: 9.94 "
      ]
     },
     "metadata": {},
     "output_type": "display_data"
    },
    {
     "data": {
      "text/html": [
       "132"
      ],
      "text/latex": [
       "132"
      ],
      "text/markdown": [
       "132"
      ],
      "text/plain": [
       "[1] 132"
      ]
     },
     "metadata": {},
     "output_type": "display_data"
    },
    {
     "data": {
      "text/html": [
       "<style>\n",
       ".dl-inline {width: auto; margin:0; padding: 0}\n",
       ".dl-inline>dt, .dl-inline>dd {float: none; width: auto; display: inline-block}\n",
       ".dl-inline>dt::after {content: \":\\0020\"; padding-right: .5ex}\n",
       ".dl-inline>dt:not(:first-of-type) {padding-left: .5ex}\n",
       "</style><dl class=dl-inline><dt>EduExp</dt><dd>1.15015253086758</dd><dt>lag.Mig05</dt><dd>1.11490534084566</dd><dt>MigPop</dt><dd>1.18977489958367</dd><dt>TotEmp</dt><dd>1.03159302623453</dd><dt>log(TotPop)</dt><dd>1.17208601149834</dd></dl>\n"
      ],
      "text/latex": [
       "\\begin{description*}\n",
       "\\item[EduExp] 1.15015253086758\n",
       "\\item[lag.Mig05] 1.11490534084566\n",
       "\\item[MigPop] 1.18977489958367\n",
       "\\item[TotEmp] 1.03159302623453\n",
       "\\item[log(TotPop)] 1.17208601149834\n",
       "\\end{description*}\n"
      ],
      "text/markdown": [
       "EduExp\n",
       ":   1.15015253086758lag.Mig05\n",
       ":   1.11490534084566MigPop\n",
       ":   1.18977489958367TotEmp\n",
       ":   1.03159302623453log(TotPop)\n",
       ":   1.17208601149834\n",
       "\n"
      ],
      "text/plain": [
       "     EduExp   lag.Mig05      MigPop      TotEmp log(TotPop) \n",
       "   1.150153    1.114905    1.189775    1.031593    1.172086 "
      ]
     },
     "metadata": {},
     "output_type": "display_data"
    },
    {
     "data": {
      "text/html": [
       "<table class=\"dataframe\">\n",
       "<caption>A anova: 6 × 3</caption>\n",
       "<thead>\n",
       "\t<tr><th></th><th scope=col>Df</th><th scope=col>F</th><th scope=col>Pr(&gt;F)</th></tr>\n",
       "\t<tr><th></th><th scope=col>&lt;dbl&gt;</th><th scope=col>&lt;dbl&gt;</th><th scope=col>&lt;dbl&gt;</th></tr>\n",
       "</thead>\n",
       "<tbody>\n",
       "\t<tr><th scope=row>EduExp</th><td>  1</td><td> 6.9896837</td><td>0.0092398102555</td></tr>\n",
       "\t<tr><th scope=row>lag.Mig05</th><td>  1</td><td>14.7856650</td><td>0.0001901811060</td></tr>\n",
       "\t<tr><th scope=row>MigPop</th><td>  1</td><td>28.5420415</td><td>0.0000004141891</td></tr>\n",
       "\t<tr><th scope=row>TotEmp</th><td>  1</td><td> 0.4636633</td><td>0.4971663541816</td></tr>\n",
       "\t<tr><th scope=row>log(TotPop)</th><td>  1</td><td> 1.3253240</td><td>0.2518187051475</td></tr>\n",
       "\t<tr><th scope=row>Residuals</th><td>126</td><td>        NA</td><td>             NA</td></tr>\n",
       "</tbody>\n",
       "</table>\n"
      ],
      "text/latex": [
       "A anova: 6 × 3\n",
       "\\begin{tabular}{r|lll}\n",
       "  & Df & F & Pr(>F)\\\\\n",
       "  & <dbl> & <dbl> & <dbl>\\\\\n",
       "\\hline\n",
       "\tEduExp &   1 &  6.9896837 & 0.0092398102555\\\\\n",
       "\tlag.Mig05 &   1 & 14.7856650 & 0.0001901811060\\\\\n",
       "\tMigPop &   1 & 28.5420415 & 0.0000004141891\\\\\n",
       "\tTotEmp &   1 &  0.4636633 & 0.4971663541816\\\\\n",
       "\tlog(TotPop) &   1 &  1.3253240 & 0.2518187051475\\\\\n",
       "\tResiduals & 126 &         NA &              NA\\\\\n",
       "\\end{tabular}\n"
      ],
      "text/markdown": [
       "\n",
       "A anova: 6 × 3\n",
       "\n",
       "| <!--/--> | Df &lt;dbl&gt; | F &lt;dbl&gt; | Pr(&gt;F) &lt;dbl&gt; |\n",
       "|---|---|---|---|\n",
       "| EduExp |   1 |  6.9896837 | 0.0092398102555 |\n",
       "| lag.Mig05 |   1 | 14.7856650 | 0.0001901811060 |\n",
       "| MigPop |   1 | 28.5420415 | 0.0000004141891 |\n",
       "| TotEmp |   1 |  0.4636633 | 0.4971663541816 |\n",
       "| log(TotPop) |   1 |  1.3253240 | 0.2518187051475 |\n",
       "| Residuals | 126 |         NA |              NA |\n",
       "\n"
      ],
      "text/plain": [
       "            Df  F          Pr(>F)         \n",
       "EduExp        1  6.9896837 0.0092398102555\n",
       "lag.Mig05     1 14.7856650 0.0001901811060\n",
       "MigPop        1 28.5420415 0.0000004141891\n",
       "TotEmp        1  0.4636633 0.4971663541816\n",
       "log(TotPop)   1  1.3253240 0.2518187051475\n",
       "Residuals   126         NA              NA"
      ]
     },
     "metadata": {},
     "output_type": "display_data"
    },
    {
     "data": {
      "text/plain": [
       "\n",
       "\tstudentized Breusch-Pagan test\n",
       "\n",
       "data:  linear_model\n",
       "BP = 31.001, df = 5, p-value = 0.000009364\n"
      ]
     },
     "metadata": {},
     "output_type": "display_data"
    },
    {
     "data": {
      "text/plain": [
       "\n",
       "z test of coefficients:\n",
       "\n",
       "                 Estimate    Std. Error z value      Pr(>|z|)    \n",
       "(Intercept) 18.2906157929 11.8046338085  1.5494     0.1212751    \n",
       "EduExp       1.6383696124  0.6197023216  2.6438     0.0081981 ** \n",
       "lag.Mig05    0.0000265617  0.0000069077  3.8452     0.0001204 ***\n",
       "MigPop       0.3970137163  0.0743126921  5.3425 0.00000009169 ***\n",
       "TotEmp      -0.0605323478  0.0888968065 -0.6809     0.4959169    \n",
       "log(TotPop)  0.6852577521  0.5952411234  1.1512     0.2496388    \n",
       "---\n",
       "Signif. codes:  0 ‘***’ 0.001 ‘**’ 0.01 ‘*’ 0.05 ‘.’ 0.1 ‘ ’ 1\n"
      ]
     },
     "metadata": {},
     "output_type": "display_data"
    }
   ],
   "source": [
    "generate_summaries(lagMig05)"
   ]
  },
  {
   "cell_type": "code",
   "execution_count": 323,
   "id": "28712779",
   "metadata": {
    "vscode": {
     "languageId": "r"
    }
   },
   "outputs": [
    {
     "data": {
      "text/plain": [
       "Call:\n",
       "rlm(formula = (Score) ~ (EduExp) + (lag.Mig10) + (MigPop) + (TotEmp) + \n",
       "    log(TotPop), data = gii_wdi)\n",
       "Converged in 11 iterations\n",
       "\n",
       "Coefficients:\n",
       "   (Intercept)         EduExp      lag.Mig10         MigPop         TotEmp \n",
       "11.20563886040  1.91395052642  0.00001550938  0.43889193808 -0.03824335380 \n",
       "   log(TotPop) \n",
       " 0.94703781240 \n",
       "\n",
       "Degrees of freedom: 132 total; 126 residual\n",
       "  (16050 observations deleted due to missingness)\n",
       "Scale estimate: 9.59 "
      ]
     },
     "metadata": {},
     "output_type": "display_data"
    },
    {
     "data": {
      "text/html": [
       "132"
      ],
      "text/latex": [
       "132"
      ],
      "text/markdown": [
       "132"
      ],
      "text/plain": [
       "[1] 132"
      ]
     },
     "metadata": {},
     "output_type": "display_data"
    },
    {
     "data": {
      "text/html": [
       "<style>\n",
       ".dl-inline {width: auto; margin:0; padding: 0}\n",
       ".dl-inline>dt, .dl-inline>dd {float: none; width: auto; display: inline-block}\n",
       ".dl-inline>dt::after {content: \":\\0020\"; padding-right: .5ex}\n",
       ".dl-inline>dt:not(:first-of-type) {padding-left: .5ex}\n",
       "</style><dl class=dl-inline><dt>EduExp</dt><dd>1.11011642240303</dd><dt>lag.Mig10</dt><dd>1.13118714472685</dd><dt>MigPop</dt><dd>1.22998169122526</dd><dt>TotEmp</dt><dd>1.0316803923728</dd><dt>log(TotPop)</dt><dd>1.15438722007653</dd></dl>\n"
      ],
      "text/latex": [
       "\\begin{description*}\n",
       "\\item[EduExp] 1.11011642240303\n",
       "\\item[lag.Mig10] 1.13118714472685\n",
       "\\item[MigPop] 1.22998169122526\n",
       "\\item[TotEmp] 1.0316803923728\n",
       "\\item[log(TotPop)] 1.15438722007653\n",
       "\\end{description*}\n"
      ],
      "text/markdown": [
       "EduExp\n",
       ":   1.11011642240303lag.Mig10\n",
       ":   1.13118714472685MigPop\n",
       ":   1.22998169122526TotEmp\n",
       ":   1.0316803923728log(TotPop)\n",
       ":   1.15438722007653\n",
       "\n"
      ],
      "text/plain": [
       "     EduExp   lag.Mig10      MigPop      TotEmp log(TotPop) \n",
       "   1.110116    1.131187    1.229982    1.031680    1.154387 "
      ]
     },
     "metadata": {},
     "output_type": "display_data"
    },
    {
     "data": {
      "text/html": [
       "<table class=\"dataframe\">\n",
       "<caption>A anova: 6 × 3</caption>\n",
       "<thead>\n",
       "\t<tr><th></th><th scope=col>Df</th><th scope=col>F</th><th scope=col>Pr(&gt;F)</th></tr>\n",
       "\t<tr><th></th><th scope=col>&lt;dbl&gt;</th><th scope=col>&lt;dbl&gt;</th><th scope=col>&lt;dbl&gt;</th></tr>\n",
       "</thead>\n",
       "<tbody>\n",
       "\t<tr><th scope=row>EduExp</th><td>  1</td><td> 9.4849575</td><td>0.00254365983433</td></tr>\n",
       "\t<tr><th scope=row>lag.Mig10</th><td>  1</td><td> 8.2473364</td><td>0.00478969867948</td></tr>\n",
       "\t<tr><th scope=row>MigPop</th><td>  1</td><td>32.3823739</td><td>0.00000008415285</td></tr>\n",
       "\t<tr><th scope=row>TotEmp</th><td>  1</td><td> 0.1776054</td><td>0.67415732563416</td></tr>\n",
       "\t<tr><th scope=row>log(TotPop)</th><td>  1</td><td> 2.4666644</td><td>0.11879233498597</td></tr>\n",
       "\t<tr><th scope=row>Residuals</th><td>126</td><td>        NA</td><td>              NA</td></tr>\n",
       "</tbody>\n",
       "</table>\n"
      ],
      "text/latex": [
       "A anova: 6 × 3\n",
       "\\begin{tabular}{r|lll}\n",
       "  & Df & F & Pr(>F)\\\\\n",
       "  & <dbl> & <dbl> & <dbl>\\\\\n",
       "\\hline\n",
       "\tEduExp &   1 &  9.4849575 & 0.00254365983433\\\\\n",
       "\tlag.Mig10 &   1 &  8.2473364 & 0.00478969867948\\\\\n",
       "\tMigPop &   1 & 32.3823739 & 0.00000008415285\\\\\n",
       "\tTotEmp &   1 &  0.1776054 & 0.67415732563416\\\\\n",
       "\tlog(TotPop) &   1 &  2.4666644 & 0.11879233498597\\\\\n",
       "\tResiduals & 126 &         NA &               NA\\\\\n",
       "\\end{tabular}\n"
      ],
      "text/markdown": [
       "\n",
       "A anova: 6 × 3\n",
       "\n",
       "| <!--/--> | Df &lt;dbl&gt; | F &lt;dbl&gt; | Pr(&gt;F) &lt;dbl&gt; |\n",
       "|---|---|---|---|\n",
       "| EduExp |   1 |  9.4849575 | 0.00254365983433 |\n",
       "| lag.Mig10 |   1 |  8.2473364 | 0.00478969867948 |\n",
       "| MigPop |   1 | 32.3823739 | 0.00000008415285 |\n",
       "| TotEmp |   1 |  0.1776054 | 0.67415732563416 |\n",
       "| log(TotPop) |   1 |  2.4666644 | 0.11879233498597 |\n",
       "| Residuals | 126 |         NA |               NA |\n",
       "\n"
      ],
      "text/plain": [
       "            Df  F          Pr(>F)          \n",
       "EduExp        1  9.4849575 0.00254365983433\n",
       "lag.Mig10     1  8.2473364 0.00478969867948\n",
       "MigPop        1 32.3823739 0.00000008415285\n",
       "TotEmp        1  0.1776054 0.67415732563416\n",
       "log(TotPop)   1  2.4666644 0.11879233498597\n",
       "Residuals   126         NA               NA"
      ]
     },
     "metadata": {},
     "output_type": "display_data"
    },
    {
     "data": {
      "text/plain": [
       "\n",
       "\tstudentized Breusch-Pagan test\n",
       "\n",
       "data:  linear_model\n",
       "BP = 37.345, df = 5, p-value = 0.0000005106\n"
      ]
     },
     "metadata": {},
     "output_type": "display_data"
    },
    {
     "data": {
      "text/plain": [
       "\n",
       "z test of coefficients:\n",
       "\n",
       "                 Estimate    Std. Error z value      Pr(>|z|)    \n",
       "(Intercept) 11.2056388604 11.8624265812  0.9446      0.344846    \n",
       "EduExp       1.9139505264  0.6214597584  3.0798      0.002072 ** \n",
       "lag.Mig10    0.0000155094  0.0000054005  2.8718      0.004081 ** \n",
       "MigPop       0.4388919381  0.0771264358  5.6906 0.00000001266 ***\n",
       "TotEmp      -0.0382433538  0.0907460843 -0.4214      0.673439    \n",
       "log(TotPop)  0.9470378124  0.6029930216  1.5706      0.116284    \n",
       "---\n",
       "Signif. codes:  0 ‘***’ 0.001 ‘**’ 0.01 ‘*’ 0.05 ‘.’ 0.1 ‘ ’ 1\n"
      ]
     },
     "metadata": {},
     "output_type": "display_data"
    }
   ],
   "source": [
    "generate_summaries(lagMig10)"
   ]
  },
  {
   "cell_type": "code",
   "execution_count": 324,
   "id": "ad39a54f",
   "metadata": {
    "vscode": {
     "languageId": "r"
    }
   },
   "outputs": [
    {
     "data": {
      "text/plain": [
       "Call:\n",
       "rlm(formula = (Score) ~ (EduExp) + (lag.Mig20) + (TotEmp) + MigPop + \n",
       "    log(TotPop), data = gii_wdi)\n",
       "Converged in 14 iterations\n",
       "\n",
       "Coefficients:\n",
       "    (Intercept)          EduExp       lag.Mig20          TotEmp          MigPop \n",
       "13.049866334135  2.126186314785  0.000008941614 -0.043060550603  0.487880226981 \n",
       "    log(TotPop) \n",
       " 0.761901514022 \n",
       "\n",
       "Degrees of freedom: 132 total; 126 residual\n",
       "  (16050 observations deleted due to missingness)\n",
       "Scale estimate: 9.83 "
      ]
     },
     "metadata": {},
     "output_type": "display_data"
    },
    {
     "data": {
      "text/html": [
       "132"
      ],
      "text/latex": [
       "132"
      ],
      "text/markdown": [
       "132"
      ],
      "text/plain": [
       "[1] 132"
      ]
     },
     "metadata": {},
     "output_type": "display_data"
    },
    {
     "data": {
      "text/html": [
       "<style>\n",
       ".dl-inline {width: auto; margin:0; padding: 0}\n",
       ".dl-inline>dt, .dl-inline>dd {float: none; width: auto; display: inline-block}\n",
       ".dl-inline>dt::after {content: \":\\0020\"; padding-right: .5ex}\n",
       ".dl-inline>dt:not(:first-of-type) {padding-left: .5ex}\n",
       "</style><dl class=dl-inline><dt>EduExp</dt><dd>1.10124763751548</dd><dt>lag.Mig20</dt><dd>1.04311557236445</dd><dt>TotEmp</dt><dd>1.03213460469151</dd><dt>MigPop</dt><dd>1.14523622102984</dd><dt>log(TotPop)</dt><dd>1.17236104082588</dd></dl>\n"
      ],
      "text/latex": [
       "\\begin{description*}\n",
       "\\item[EduExp] 1.10124763751548\n",
       "\\item[lag.Mig20] 1.04311557236445\n",
       "\\item[TotEmp] 1.03213460469151\n",
       "\\item[MigPop] 1.14523622102984\n",
       "\\item[log(TotPop)] 1.17236104082588\n",
       "\\end{description*}\n"
      ],
      "text/markdown": [
       "EduExp\n",
       ":   1.10124763751548lag.Mig20\n",
       ":   1.04311557236445TotEmp\n",
       ":   1.03213460469151MigPop\n",
       ":   1.14523622102984log(TotPop)\n",
       ":   1.17236104082588\n",
       "\n"
      ],
      "text/plain": [
       "     EduExp   lag.Mig20      TotEmp      MigPop log(TotPop) \n",
       "   1.101248    1.043116    1.032135    1.145236    1.172361 "
      ]
     },
     "metadata": {},
     "output_type": "display_data"
    },
    {
     "data": {
      "text/html": [
       "<table class=\"dataframe\">\n",
       "<caption>A anova: 6 × 3</caption>\n",
       "<thead>\n",
       "\t<tr><th></th><th scope=col>Df</th><th scope=col>F</th><th scope=col>Pr(&gt;F)</th></tr>\n",
       "\t<tr><th></th><th scope=col>&lt;dbl&gt;</th><th scope=col>&lt;dbl&gt;</th><th scope=col>&lt;dbl&gt;</th></tr>\n",
       "</thead>\n",
       "<tbody>\n",
       "\t<tr><th scope=row>EduExp</th><td>  1</td><td>11.2995306</td><td>0.001026743393904</td></tr>\n",
       "\t<tr><th scope=row>lag.Mig20</th><td>  1</td><td> 3.1637797</td><td>0.077700166514774</td></tr>\n",
       "\t<tr><th scope=row>TotEmp</th><td>  1</td><td> 0.2155323</td><td>0.643266477993528</td></tr>\n",
       "\t<tr><th scope=row>MigPop</th><td>  1</td><td>41.1551070</td><td>0.000000002583505</td></tr>\n",
       "\t<tr><th scope=row>log(TotPop)</th><td>  1</td><td> 1.5054401</td><td>0.222123884068379</td></tr>\n",
       "\t<tr><th scope=row>Residuals</th><td>126</td><td>        NA</td><td>               NA</td></tr>\n",
       "</tbody>\n",
       "</table>\n"
      ],
      "text/latex": [
       "A anova: 6 × 3\n",
       "\\begin{tabular}{r|lll}\n",
       "  & Df & F & Pr(>F)\\\\\n",
       "  & <dbl> & <dbl> & <dbl>\\\\\n",
       "\\hline\n",
       "\tEduExp &   1 & 11.2995306 & 0.001026743393904\\\\\n",
       "\tlag.Mig20 &   1 &  3.1637797 & 0.077700166514774\\\\\n",
       "\tTotEmp &   1 &  0.2155323 & 0.643266477993528\\\\\n",
       "\tMigPop &   1 & 41.1551070 & 0.000000002583505\\\\\n",
       "\tlog(TotPop) &   1 &  1.5054401 & 0.222123884068379\\\\\n",
       "\tResiduals & 126 &         NA &                NA\\\\\n",
       "\\end{tabular}\n"
      ],
      "text/markdown": [
       "\n",
       "A anova: 6 × 3\n",
       "\n",
       "| <!--/--> | Df &lt;dbl&gt; | F &lt;dbl&gt; | Pr(&gt;F) &lt;dbl&gt; |\n",
       "|---|---|---|---|\n",
       "| EduExp |   1 | 11.2995306 | 0.001026743393904 |\n",
       "| lag.Mig20 |   1 |  3.1637797 | 0.077700166514774 |\n",
       "| TotEmp |   1 |  0.2155323 | 0.643266477993528 |\n",
       "| MigPop |   1 | 41.1551070 | 0.000000002583505 |\n",
       "| log(TotPop) |   1 |  1.5054401 | 0.222123884068379 |\n",
       "| Residuals | 126 |         NA |                NA |\n",
       "\n"
      ],
      "text/plain": [
       "            Df  F          Pr(>F)           \n",
       "EduExp        1 11.2995306 0.001026743393904\n",
       "lag.Mig20     1  3.1637797 0.077700166514774\n",
       "TotEmp        1  0.2155323 0.643266477993528\n",
       "MigPop        1 41.1551070 0.000000002583505\n",
       "log(TotPop)   1  1.5054401 0.222123884068379\n",
       "Residuals   126         NA                NA"
      ]
     },
     "metadata": {},
     "output_type": "display_data"
    },
    {
     "data": {
      "text/plain": [
       "\n",
       "\tstudentized Breusch-Pagan test\n",
       "\n",
       "data:  linear_model\n",
       "BP = 33.753, df = 5, p-value = 0.000002666\n"
      ]
     },
     "metadata": {},
     "output_type": "display_data"
    },
    {
     "data": {
      "text/plain": [
       "\n",
       "z test of coefficients:\n",
       "\n",
       "                 Estimate    Std. Error z value        Pr(>|z|)    \n",
       "(Intercept) 13.0498663341 12.2043286345  1.0693       0.2849427    \n",
       "EduExp       2.1261863148  0.6325154188  3.3615       0.0007753 ***\n",
       "lag.Mig20    0.0000089416  0.0000050270  1.7787       0.0752887 .  \n",
       "TotEmp      -0.0430605506  0.0927520141 -0.4643       0.6424653    \n",
       "MigPop       0.4878802270  0.0760503732  6.4152 0.0000000001406 ***\n",
       "log(TotPop)  0.7619015140  0.6209649589  1.2270       0.2198362    \n",
       "---\n",
       "Signif. codes:  0 ‘***’ 0.001 ‘**’ 0.01 ‘*’ 0.05 ‘.’ 0.1 ‘ ’ 1\n"
      ]
     },
     "metadata": {},
     "output_type": "display_data"
    }
   ],
   "source": [
    "generate_summaries(lagMig20)"
   ]
  },
  {
   "cell_type": "code",
   "execution_count": 325,
   "id": "00b816f7",
   "metadata": {
    "vscode": {
     "languageId": "r"
    }
   },
   "outputs": [
    {
     "data": {
      "text/plain": [
       "Call:\n",
       "rlm(formula = log(Pat) ~ (EduExp) + (lag.Mig01) + (TotEmp) + \n",
       "    MigPop, data = gii_wdi)\n",
       "Converged in 9 iterations\n",
       "\n",
       "Coefficients:\n",
       "    (Intercept)          EduExp       lag.Mig01          TotEmp          MigPop \n",
       " 6.349672188548  0.178142084387  0.000002435176 -0.022346075325 -0.003164038508 \n",
       "\n",
       "Degrees of freedom: 416 total; 411 residual\n",
       "  (15766 observations deleted due to missingness)\n",
       "Scale estimate: 2.54 "
      ]
     },
     "metadata": {},
     "output_type": "display_data"
    },
    {
     "data": {
      "text/html": [
       "416"
      ],
      "text/latex": [
       "416"
      ],
      "text/markdown": [
       "416"
      ],
      "text/plain": [
       "[1] 416"
      ]
     },
     "metadata": {},
     "output_type": "display_data"
    },
    {
     "data": {
      "text/html": [
       "<style>\n",
       ".dl-inline {width: auto; margin:0; padding: 0}\n",
       ".dl-inline>dt, .dl-inline>dd {float: none; width: auto; display: inline-block}\n",
       ".dl-inline>dt::after {content: \":\\0020\"; padding-right: .5ex}\n",
       ".dl-inline>dt:not(:first-of-type) {padding-left: .5ex}\n",
       "</style><dl class=dl-inline><dt>EduExp</dt><dd>1.04679928683996</dd><dt>lag.Mig01</dt><dd>1.07836127426474</dd><dt>TotEmp</dt><dd>1.01050969977315</dd><dt>MigPop</dt><dd>1.04282086339547</dd></dl>\n"
      ],
      "text/latex": [
       "\\begin{description*}\n",
       "\\item[EduExp] 1.04679928683996\n",
       "\\item[lag.Mig01] 1.07836127426474\n",
       "\\item[TotEmp] 1.01050969977315\n",
       "\\item[MigPop] 1.04282086339547\n",
       "\\end{description*}\n"
      ],
      "text/markdown": [
       "EduExp\n",
       ":   1.04679928683996lag.Mig01\n",
       ":   1.07836127426474TotEmp\n",
       ":   1.01050969977315MigPop\n",
       ":   1.04282086339547\n",
       "\n"
      ],
      "text/plain": [
       "   EduExp lag.Mig01    TotEmp    MigPop \n",
       " 1.046799  1.078361  1.010510  1.042821 "
      ]
     },
     "metadata": {},
     "output_type": "display_data"
    },
    {
     "data": {
      "text/html": [
       "<table class=\"dataframe\">\n",
       "<caption>A anova: 5 × 3</caption>\n",
       "<thead>\n",
       "\t<tr><th></th><th scope=col>Df</th><th scope=col>F</th><th scope=col>Pr(&gt;F)</th></tr>\n",
       "\t<tr><th></th><th scope=col>&lt;dbl&gt;</th><th scope=col>&lt;dbl&gt;</th><th scope=col>&lt;dbl&gt;</th></tr>\n",
       "</thead>\n",
       "<tbody>\n",
       "\t<tr><th scope=row>EduExp</th><td>  1</td><td> 3.50969833</td><td>0.061720011226890</td></tr>\n",
       "\t<tr><th scope=row>lag.Mig01</th><td>  1</td><td>37.98537815</td><td>0.000000001702641</td></tr>\n",
       "\t<tr><th scope=row>TotEmp</th><td>  1</td><td> 2.19517643</td><td>0.139209607294923</td></tr>\n",
       "\t<tr><th scope=row>MigPop</th><td>  1</td><td> 0.05826502</td><td>0.809379846884286</td></tr>\n",
       "\t<tr><th scope=row>Residuals</th><td>411</td><td>         NA</td><td>               NA</td></tr>\n",
       "</tbody>\n",
       "</table>\n"
      ],
      "text/latex": [
       "A anova: 5 × 3\n",
       "\\begin{tabular}{r|lll}\n",
       "  & Df & F & Pr(>F)\\\\\n",
       "  & <dbl> & <dbl> & <dbl>\\\\\n",
       "\\hline\n",
       "\tEduExp &   1 &  3.50969833 & 0.061720011226890\\\\\n",
       "\tlag.Mig01 &   1 & 37.98537815 & 0.000000001702641\\\\\n",
       "\tTotEmp &   1 &  2.19517643 & 0.139209607294923\\\\\n",
       "\tMigPop &   1 &  0.05826502 & 0.809379846884286\\\\\n",
       "\tResiduals & 411 &          NA &                NA\\\\\n",
       "\\end{tabular}\n"
      ],
      "text/markdown": [
       "\n",
       "A anova: 5 × 3\n",
       "\n",
       "| <!--/--> | Df &lt;dbl&gt; | F &lt;dbl&gt; | Pr(&gt;F) &lt;dbl&gt; |\n",
       "|---|---|---|---|\n",
       "| EduExp |   1 |  3.50969833 | 0.061720011226890 |\n",
       "| lag.Mig01 |   1 | 37.98537815 | 0.000000001702641 |\n",
       "| TotEmp |   1 |  2.19517643 | 0.139209607294923 |\n",
       "| MigPop |   1 |  0.05826502 | 0.809379846884286 |\n",
       "| Residuals | 411 |          NA |                NA |\n",
       "\n"
      ],
      "text/plain": [
       "          Df  F           Pr(>F)           \n",
       "EduExp      1  3.50969833 0.061720011226890\n",
       "lag.Mig01   1 37.98537815 0.000000001702641\n",
       "TotEmp      1  2.19517643 0.139209607294923\n",
       "MigPop      1  0.05826502 0.809379846884286\n",
       "Residuals 411          NA                NA"
      ]
     },
     "metadata": {},
     "output_type": "display_data"
    },
    {
     "data": {
      "text/plain": [
       "\n",
       "\tstudentized Breusch-Pagan test\n",
       "\n",
       "data:  linear_model\n",
       "BP = 34.085, df = 4, p-value = 0.000000716\n"
      ]
     },
     "metadata": {},
     "output_type": "display_data"
    },
    {
     "data": {
      "text/plain": [
       "\n",
       "z test of coefficients:\n",
       "\n",
       "                  Estimate     Std. Error z value         Pr(>|z|)    \n",
       "(Intercept)  6.34967218855  0.97922516228  6.4844 0.00000000008909 ***\n",
       "EduExp       0.17814208439  0.09508929665  1.8734          0.06101 .  \n",
       "lag.Mig01    0.00000243518  0.00000039511  6.1632 0.00000000071277 ***\n",
       "TotEmp      -0.02234607533  0.01508226417 -1.4816          0.13844    \n",
       "MigPop      -0.00316403851  0.01310804198 -0.2414          0.80926    \n",
       "---\n",
       "Signif. codes:  0 ‘***’ 0.001 ‘**’ 0.01 ‘*’ 0.05 ‘.’ 0.1 ‘ ’ 1\n"
      ]
     },
     "metadata": {},
     "output_type": "display_data"
    }
   ],
   "source": [
    "generate_summaries(pat01)"
   ]
  },
  {
   "cell_type": "code",
   "execution_count": 326,
   "id": "37aae694",
   "metadata": {
    "vscode": {
     "languageId": "r"
    }
   },
   "outputs": [
    {
     "data": {
      "text/plain": [
       "Call:\n",
       "rlm(formula = log(Pat) ~ (EduExp) + (lag.Mig05) + (TotEmp) + \n",
       "    MigPop, data = gii_wdi)\n",
       "Converged in 8 iterations\n",
       "\n",
       "Coefficients:\n",
       "    (Intercept)          EduExp       lag.Mig05          TotEmp          MigPop \n",
       " 6.146820586424  0.189885292279  0.000002803629 -0.020240235594 -0.002349825124 \n",
       "\n",
       "Degrees of freedom: 416 total; 411 residual\n",
       "  (15766 observations deleted due to missingness)\n",
       "Scale estimate: 2.52 "
      ]
     },
     "metadata": {},
     "output_type": "display_data"
    },
    {
     "data": {
      "text/html": [
       "416"
      ],
      "text/latex": [
       "416"
      ],
      "text/markdown": [
       "416"
      ],
      "text/plain": [
       "[1] 416"
      ]
     },
     "metadata": {},
     "output_type": "display_data"
    },
    {
     "data": {
      "text/html": [
       "<style>\n",
       ".dl-inline {width: auto; margin:0; padding: 0}\n",
       ".dl-inline>dt, .dl-inline>dd {float: none; width: auto; display: inline-block}\n",
       ".dl-inline>dt::after {content: \":\\0020\"; padding-right: .5ex}\n",
       ".dl-inline>dt:not(:first-of-type) {padding-left: .5ex}\n",
       "</style><dl class=dl-inline><dt>EduExp</dt><dd>1.03544277243895</dd><dt>lag.Mig05</dt><dd>1.06126732587738</dd><dt>TotEmp</dt><dd>1.01225949239542</dd><dt>MigPop</dt><dd>1.03627828394416</dd></dl>\n"
      ],
      "text/latex": [
       "\\begin{description*}\n",
       "\\item[EduExp] 1.03544277243895\n",
       "\\item[lag.Mig05] 1.06126732587738\n",
       "\\item[TotEmp] 1.01225949239542\n",
       "\\item[MigPop] 1.03627828394416\n",
       "\\end{description*}\n"
      ],
      "text/markdown": [
       "EduExp\n",
       ":   1.03544277243895lag.Mig05\n",
       ":   1.06126732587738TotEmp\n",
       ":   1.01225949239542MigPop\n",
       ":   1.03627828394416\n",
       "\n"
      ],
      "text/plain": [
       "   EduExp lag.Mig05    TotEmp    MigPop \n",
       " 1.035443  1.061267  1.012259  1.036278 "
      ]
     },
     "metadata": {},
     "output_type": "display_data"
    },
    {
     "data": {
      "text/html": [
       "<table class=\"dataframe\">\n",
       "<caption>A anova: 5 × 3</caption>\n",
       "<thead>\n",
       "\t<tr><th></th><th scope=col>Df</th><th scope=col>F</th><th scope=col>Pr(&gt;F)</th></tr>\n",
       "\t<tr><th></th><th scope=col>&lt;dbl&gt;</th><th scope=col>&lt;dbl&gt;</th><th scope=col>&lt;dbl&gt;</th></tr>\n",
       "</thead>\n",
       "<tbody>\n",
       "\t<tr><th scope=row>EduExp</th><td>  1</td><td> 4.1445288</td><td>0.042410102657538</td></tr>\n",
       "\t<tr><th scope=row>lag.Mig05</th><td>  1</td><td>38.3069572</td><td>0.000000001464312</td></tr>\n",
       "\t<tr><th scope=row>TotEmp</th><td>  1</td><td> 1.8482688</td><td>0.174730277758472</td></tr>\n",
       "\t<tr><th scope=row>MigPop</th><td>  1</td><td> 0.0332466</td><td>0.855408558407383</td></tr>\n",
       "\t<tr><th scope=row>Residuals</th><td>411</td><td>        NA</td><td>               NA</td></tr>\n",
       "</tbody>\n",
       "</table>\n"
      ],
      "text/latex": [
       "A anova: 5 × 3\n",
       "\\begin{tabular}{r|lll}\n",
       "  & Df & F & Pr(>F)\\\\\n",
       "  & <dbl> & <dbl> & <dbl>\\\\\n",
       "\\hline\n",
       "\tEduExp &   1 &  4.1445288 & 0.042410102657538\\\\\n",
       "\tlag.Mig05 &   1 & 38.3069572 & 0.000000001464312\\\\\n",
       "\tTotEmp &   1 &  1.8482688 & 0.174730277758472\\\\\n",
       "\tMigPop &   1 &  0.0332466 & 0.855408558407383\\\\\n",
       "\tResiduals & 411 &         NA &                NA\\\\\n",
       "\\end{tabular}\n"
      ],
      "text/markdown": [
       "\n",
       "A anova: 5 × 3\n",
       "\n",
       "| <!--/--> | Df &lt;dbl&gt; | F &lt;dbl&gt; | Pr(&gt;F) &lt;dbl&gt; |\n",
       "|---|---|---|---|\n",
       "| EduExp |   1 |  4.1445288 | 0.042410102657538 |\n",
       "| lag.Mig05 |   1 | 38.3069572 | 0.000000001464312 |\n",
       "| TotEmp |   1 |  1.8482688 | 0.174730277758472 |\n",
       "| MigPop |   1 |  0.0332466 | 0.855408558407383 |\n",
       "| Residuals | 411 |         NA |                NA |\n",
       "\n"
      ],
      "text/plain": [
       "          Df  F          Pr(>F)           \n",
       "EduExp      1  4.1445288 0.042410102657538\n",
       "lag.Mig05   1 38.3069572 0.000000001464312\n",
       "TotEmp      1  1.8482688 0.174730277758472\n",
       "MigPop      1  0.0332466 0.855408558407383\n",
       "Residuals 411         NA                NA"
      ]
     },
     "metadata": {},
     "output_type": "display_data"
    },
    {
     "data": {
      "text/plain": [
       "\n",
       "\tstudentized Breusch-Pagan test\n",
       "\n",
       "data:  linear_model\n",
       "BP = 36.085, df = 4, p-value = 0.0000002779\n"
      ]
     },
     "metadata": {},
     "output_type": "display_data"
    },
    {
     "data": {
      "text/plain": [
       "\n",
       "z test of coefficients:\n",
       "\n",
       "                  Estimate     Std. Error z value        Pr(>|z|)    \n",
       "(Intercept)  6.14682058642  0.96303446882  6.3828 0.0000000001739 ***\n",
       "EduExp       0.18988529228  0.09327252755  2.0358         0.04177 *  \n",
       "lag.Mig05    0.00000280363  0.00000045298  6.1893 0.0000000006045 ***\n",
       "TotEmp      -0.02024023559  0.01488788475 -1.3595         0.17398    \n",
       "MigPop      -0.00234982512  0.01288729992 -0.1823         0.85532    \n",
       "---\n",
       "Signif. codes:  0 ‘***’ 0.001 ‘**’ 0.01 ‘*’ 0.05 ‘.’ 0.1 ‘ ’ 1\n"
      ]
     },
     "metadata": {},
     "output_type": "display_data"
    }
   ],
   "source": [
    "generate_summaries(pat05)"
   ]
  },
  {
   "cell_type": "code",
   "execution_count": 327,
   "id": "0013d6da",
   "metadata": {
    "vscode": {
     "languageId": "r"
    }
   },
   "outputs": [
    {
     "data": {
      "text/plain": [
       "Call:\n",
       "rlm(formula = log(Pat) ~ (EduExp) + (lag.Mig10) + (TotEmp) + \n",
       "    MigPop, data = gii_wdi)\n",
       "Converged in 7 iterations\n",
       "\n",
       "Coefficients:\n",
       "    (Intercept)          EduExp       lag.Mig10          TotEmp          MigPop \n",
       " 6.142899011473  0.215328817957  0.000002202739 -0.021725801322 -0.002767859893 \n",
       "\n",
       "Degrees of freedom: 416 total; 411 residual\n",
       "  (15766 observations deleted due to missingness)\n",
       "Scale estimate: 2.59 "
      ]
     },
     "metadata": {},
     "output_type": "display_data"
    },
    {
     "data": {
      "text/html": [
       "416"
      ],
      "text/latex": [
       "416"
      ],
      "text/markdown": [
       "416"
      ],
      "text/plain": [
       "[1] 416"
      ]
     },
     "metadata": {},
     "output_type": "display_data"
    },
    {
     "data": {
      "text/html": [
       "<style>\n",
       ".dl-inline {width: auto; margin:0; padding: 0}\n",
       ".dl-inline>dt, .dl-inline>dd {float: none; width: auto; display: inline-block}\n",
       ".dl-inline>dt::after {content: \":\\0020\"; padding-right: .5ex}\n",
       ".dl-inline>dt:not(:first-of-type) {padding-left: .5ex}\n",
       "</style><dl class=dl-inline><dt>EduExp</dt><dd>1.02831876265961</dd><dt>lag.Mig10</dt><dd>1.06515078167169</dd><dt>TotEmp</dt><dd>1.01237589472657</dd><dt>MigPop</dt><dd>1.04745380044022</dd></dl>\n"
      ],
      "text/latex": [
       "\\begin{description*}\n",
       "\\item[EduExp] 1.02831876265961\n",
       "\\item[lag.Mig10] 1.06515078167169\n",
       "\\item[TotEmp] 1.01237589472657\n",
       "\\item[MigPop] 1.04745380044022\n",
       "\\end{description*}\n"
      ],
      "text/markdown": [
       "EduExp\n",
       ":   1.02831876265961lag.Mig10\n",
       ":   1.06515078167169TotEmp\n",
       ":   1.01237589472657MigPop\n",
       ":   1.04745380044022\n",
       "\n"
      ],
      "text/plain": [
       "   EduExp lag.Mig10    TotEmp    MigPop \n",
       " 1.028319  1.065151  1.012376  1.047454 "
      ]
     },
     "metadata": {},
     "output_type": "display_data"
    },
    {
     "data": {
      "text/html": [
       "<table class=\"dataframe\">\n",
       "<caption>A anova: 5 × 3</caption>\n",
       "<thead>\n",
       "\t<tr><th></th><th scope=col>Df</th><th scope=col>F</th><th scope=col>Pr(&gt;F)</th></tr>\n",
       "\t<tr><th></th><th scope=col>&lt;dbl&gt;</th><th scope=col>&lt;dbl&gt;</th><th scope=col>&lt;dbl&gt;</th></tr>\n",
       "</thead>\n",
       "<tbody>\n",
       "\t<tr><th scope=row>EduExp</th><td>  1</td><td> 5.13995691</td><td>0.023899949723</td></tr>\n",
       "\t<tr><th scope=row>lag.Mig10</th><td>  1</td><td>21.29990601</td><td>0.000005257282</td></tr>\n",
       "\t<tr><th scope=row>TotEmp</th><td>  1</td><td> 2.03938861</td><td>0.154030659697</td></tr>\n",
       "\t<tr><th scope=row>MigPop</th><td>  1</td><td> 0.04370893</td><td>0.834499666480</td></tr>\n",
       "\t<tr><th scope=row>Residuals</th><td>411</td><td>         NA</td><td>            NA</td></tr>\n",
       "</tbody>\n",
       "</table>\n"
      ],
      "text/latex": [
       "A anova: 5 × 3\n",
       "\\begin{tabular}{r|lll}\n",
       "  & Df & F & Pr(>F)\\\\\n",
       "  & <dbl> & <dbl> & <dbl>\\\\\n",
       "\\hline\n",
       "\tEduExp &   1 &  5.13995691 & 0.023899949723\\\\\n",
       "\tlag.Mig10 &   1 & 21.29990601 & 0.000005257282\\\\\n",
       "\tTotEmp &   1 &  2.03938861 & 0.154030659697\\\\\n",
       "\tMigPop &   1 &  0.04370893 & 0.834499666480\\\\\n",
       "\tResiduals & 411 &          NA &             NA\\\\\n",
       "\\end{tabular}\n"
      ],
      "text/markdown": [
       "\n",
       "A anova: 5 × 3\n",
       "\n",
       "| <!--/--> | Df &lt;dbl&gt; | F &lt;dbl&gt; | Pr(&gt;F) &lt;dbl&gt; |\n",
       "|---|---|---|---|\n",
       "| EduExp |   1 |  5.13995691 | 0.023899949723 |\n",
       "| lag.Mig10 |   1 | 21.29990601 | 0.000005257282 |\n",
       "| TotEmp |   1 |  2.03938861 | 0.154030659697 |\n",
       "| MigPop |   1 |  0.04370893 | 0.834499666480 |\n",
       "| Residuals | 411 |          NA |             NA |\n",
       "\n"
      ],
      "text/plain": [
       "          Df  F           Pr(>F)        \n",
       "EduExp      1  5.13995691 0.023899949723\n",
       "lag.Mig10   1 21.29990601 0.000005257282\n",
       "TotEmp      1  2.03938861 0.154030659697\n",
       "MigPop      1  0.04370893 0.834499666480\n",
       "Residuals 411          NA             NA"
      ]
     },
     "metadata": {},
     "output_type": "display_data"
    },
    {
     "data": {
      "text/plain": [
       "\n",
       "\tstudentized Breusch-Pagan test\n",
       "\n",
       "data:  linear_model\n",
       "BP = 31.548, df = 4, p-value = 0.000002367\n"
      ]
     },
     "metadata": {},
     "output_type": "display_data"
    },
    {
     "data": {
      "text/plain": [
       "\n",
       "z test of coefficients:\n",
       "\n",
       "                  Estimate     Std. Error z value        Pr(>|z|)    \n",
       "(Intercept)  6.14289901147  0.98384856728  6.2437 0.0000000004272 ***\n",
       "EduExp       0.21532881796  0.09497786813  2.2671         0.02338 *  \n",
       "lag.Mig10    0.00000220274  0.00000047728  4.6152 0.0000039275075 ***\n",
       "TotEmp      -0.02172580132  0.01521338336 -1.4281         0.15327    \n",
       "MigPop      -0.00276785989  0.01323911692 -0.2091         0.83440    \n",
       "---\n",
       "Signif. codes:  0 ‘***’ 0.001 ‘**’ 0.01 ‘*’ 0.05 ‘.’ 0.1 ‘ ’ 1\n"
      ]
     },
     "metadata": {},
     "output_type": "display_data"
    }
   ],
   "source": [
    "generate_summaries(pat10)"
   ]
  },
  {
   "cell_type": "code",
   "execution_count": 328,
   "id": "8a1c18fd",
   "metadata": {
    "vscode": {
     "languageId": "r"
    }
   },
   "outputs": [
    {
     "data": {
      "text/plain": [
       "Call:\n",
       "rlm(formula = log(Pat) ~ (EduExp) + (lag.Mig20) + (TotEmp) + \n",
       "    MigPop, data = gii_wdi)\n",
       "Converged in 6 iterations\n",
       "\n",
       "Coefficients:\n",
       "    (Intercept)          EduExp       lag.Mig20          TotEmp          MigPop \n",
       " 6.111692807518  0.206102547415  0.000002996138 -0.020532650096 -0.002530704837 \n",
       "\n",
       "Degrees of freedom: 416 total; 411 residual\n",
       "  (15766 observations deleted due to missingness)\n",
       "Scale estimate: 2.59 "
      ]
     },
     "metadata": {},
     "output_type": "display_data"
    },
    {
     "data": {
      "text/html": [
       "416"
      ],
      "text/latex": [
       "416"
      ],
      "text/markdown": [
       "416"
      ],
      "text/plain": [
       "[1] 416"
      ]
     },
     "metadata": {},
     "output_type": "display_data"
    },
    {
     "data": {
      "text/html": [
       "<style>\n",
       ".dl-inline {width: auto; margin:0; padding: 0}\n",
       ".dl-inline>dt, .dl-inline>dd {float: none; width: auto; display: inline-block}\n",
       ".dl-inline>dt::after {content: \":\\0020\"; padding-right: .5ex}\n",
       ".dl-inline>dt:not(:first-of-type) {padding-left: .5ex}\n",
       "</style><dl class=dl-inline><dt>EduExp</dt><dd>1.02092320760746</dd><dt>lag.Mig20</dt><dd>1.04892735728436</dd><dt>TotEmp</dt><dd>1.01531178788536</dd><dt>MigPop</dt><dd>1.03673893406164</dd></dl>\n"
      ],
      "text/latex": [
       "\\begin{description*}\n",
       "\\item[EduExp] 1.02092320760746\n",
       "\\item[lag.Mig20] 1.04892735728436\n",
       "\\item[TotEmp] 1.01531178788536\n",
       "\\item[MigPop] 1.03673893406164\n",
       "\\end{description*}\n"
      ],
      "text/markdown": [
       "EduExp\n",
       ":   1.02092320760746lag.Mig20\n",
       ":   1.04892735728436TotEmp\n",
       ":   1.01531178788536MigPop\n",
       ":   1.03673893406164\n",
       "\n"
      ],
      "text/plain": [
       "   EduExp lag.Mig20    TotEmp    MigPop \n",
       " 1.020923  1.048927  1.015312  1.036739 "
      ]
     },
     "metadata": {},
     "output_type": "display_data"
    },
    {
     "data": {
      "text/html": [
       "<table class=\"dataframe\">\n",
       "<caption>A anova: 5 × 3</caption>\n",
       "<thead>\n",
       "\t<tr><th></th><th scope=col>Df</th><th scope=col>F</th><th scope=col>Pr(&gt;F)</th></tr>\n",
       "\t<tr><th></th><th scope=col>&lt;dbl&gt;</th><th scope=col>&lt;dbl&gt;</th><th scope=col>&lt;dbl&gt;</th></tr>\n",
       "</thead>\n",
       "<tbody>\n",
       "\t<tr><th scope=row>EduExp</th><td>  1</td><td> 4.80469478</td><td>0.0289425784204</td></tr>\n",
       "\t<tr><th scope=row>lag.Mig20</th><td>  1</td><td>26.77406095</td><td>0.0000003583186</td></tr>\n",
       "\t<tr><th scope=row>TotEmp</th><td>  1</td><td> 1.83988211</td><td>0.1757093958385</td></tr>\n",
       "\t<tr><th scope=row>MigPop</th><td>  1</td><td> 0.03739725</td><td>0.8467540238358</td></tr>\n",
       "\t<tr><th scope=row>Residuals</th><td>411</td><td>         NA</td><td>             NA</td></tr>\n",
       "</tbody>\n",
       "</table>\n"
      ],
      "text/latex": [
       "A anova: 5 × 3\n",
       "\\begin{tabular}{r|lll}\n",
       "  & Df & F & Pr(>F)\\\\\n",
       "  & <dbl> & <dbl> & <dbl>\\\\\n",
       "\\hline\n",
       "\tEduExp &   1 &  4.80469478 & 0.0289425784204\\\\\n",
       "\tlag.Mig20 &   1 & 26.77406095 & 0.0000003583186\\\\\n",
       "\tTotEmp &   1 &  1.83988211 & 0.1757093958385\\\\\n",
       "\tMigPop &   1 &  0.03739725 & 0.8467540238358\\\\\n",
       "\tResiduals & 411 &          NA &              NA\\\\\n",
       "\\end{tabular}\n"
      ],
      "text/markdown": [
       "\n",
       "A anova: 5 × 3\n",
       "\n",
       "| <!--/--> | Df &lt;dbl&gt; | F &lt;dbl&gt; | Pr(&gt;F) &lt;dbl&gt; |\n",
       "|---|---|---|---|\n",
       "| EduExp |   1 |  4.80469478 | 0.0289425784204 |\n",
       "| lag.Mig20 |   1 | 26.77406095 | 0.0000003583186 |\n",
       "| TotEmp |   1 |  1.83988211 | 0.1757093958385 |\n",
       "| MigPop |   1 |  0.03739725 | 0.8467540238358 |\n",
       "| Residuals | 411 |          NA |              NA |\n",
       "\n"
      ],
      "text/plain": [
       "          Df  F           Pr(>F)         \n",
       "EduExp      1  4.80469478 0.0289425784204\n",
       "lag.Mig20   1 26.77406095 0.0000003583186\n",
       "TotEmp      1  1.83988211 0.1757093958385\n",
       "MigPop      1  0.03739725 0.8467540238358\n",
       "Residuals 411          NA              NA"
      ]
     },
     "metadata": {},
     "output_type": "display_data"
    },
    {
     "data": {
      "text/plain": [
       "\n",
       "\tstudentized Breusch-Pagan test\n",
       "\n",
       "data:  linear_model\n",
       "BP = 31.108, df = 4, p-value = 0.00000291\n"
      ]
     },
     "metadata": {},
     "output_type": "display_data"
    },
    {
     "data": {
      "text/plain": [
       "\n",
       "z test of coefficients:\n",
       "\n",
       "                  Estimate     Std. Error z value        Pr(>|z|)    \n",
       "(Intercept)  6.11169280752  0.97678007341  6.2570 0.0000000003925 ***\n",
       "EduExp       0.20610254741  0.09402654048  2.1920         0.02838 *  \n",
       "lag.Mig20    0.00000299614  0.00000057903  5.1744 0.0000002286865 ***\n",
       "TotEmp      -0.02053265010  0.01513735539 -1.3564         0.17496    \n",
       "MigPop      -0.00253070484  0.01308644443 -0.1934         0.84666    \n",
       "---\n",
       "Signif. codes:  0 ‘***’ 0.001 ‘**’ 0.01 ‘*’ 0.05 ‘.’ 0.1 ‘ ’ 1\n"
      ]
     },
     "metadata": {},
     "output_type": "display_data"
    }
   ],
   "source": [
    "generate_summaries(pat20)"
   ]
  },
  {
   "cell_type": "code",
   "execution_count": 329,
   "id": "0811e61b",
   "metadata": {
    "vscode": {
     "languageId": "r"
    }
   },
   "outputs": [
    {
     "data": {
      "text/plain": [
       "Call:\n",
       "rlm(formula = log1p(RemRecv) ~ (EduExp) + (lag.Mig01) + (TotEmp) + \n",
       "    MigPop, data = gii_wdi)\n",
       "Converged in 7 iterations\n",
       "\n",
       "Coefficients:\n",
       "    (Intercept)          EduExp       lag.Mig01          TotEmp          MigPop \n",
       "24.131312866858 -0.085365560239 -0.000001010371 -0.047708423540 -0.054982121049 \n",
       "\n",
       "Degrees of freedom: 737 total; 732 residual\n",
       "  (15445 observations deleted due to missingness)\n",
       "Scale estimate: 2.42 "
      ]
     },
     "metadata": {},
     "output_type": "display_data"
    },
    {
     "data": {
      "text/html": [
       "737"
      ],
      "text/latex": [
       "737"
      ],
      "text/markdown": [
       "737"
      ],
      "text/plain": [
       "[1] 737"
      ]
     },
     "metadata": {},
     "output_type": "display_data"
    },
    {
     "data": {
      "text/html": [
       "<style>\n",
       ".dl-inline {width: auto; margin:0; padding: 0}\n",
       ".dl-inline>dt, .dl-inline>dd {float: none; width: auto; display: inline-block}\n",
       ".dl-inline>dt::after {content: \":\\0020\"; padding-right: .5ex}\n",
       ".dl-inline>dt:not(:first-of-type) {padding-left: .5ex}\n",
       "</style><dl class=dl-inline><dt>EduExp</dt><dd>1.05789725268311</dd><dt>lag.Mig01</dt><dd>1.07072539380893</dd><dt>TotEmp</dt><dd>1.01984610167431</dd><dt>MigPop</dt><dd>1.0412625177804</dd></dl>\n"
      ],
      "text/latex": [
       "\\begin{description*}\n",
       "\\item[EduExp] 1.05789725268311\n",
       "\\item[lag.Mig01] 1.07072539380893\n",
       "\\item[TotEmp] 1.01984610167431\n",
       "\\item[MigPop] 1.0412625177804\n",
       "\\end{description*}\n"
      ],
      "text/markdown": [
       "EduExp\n",
       ":   1.05789725268311lag.Mig01\n",
       ":   1.07072539380893TotEmp\n",
       ":   1.01984610167431MigPop\n",
       ":   1.0412625177804\n",
       "\n"
      ],
      "text/plain": [
       "   EduExp lag.Mig01    TotEmp    MigPop \n",
       " 1.057897  1.070725  1.019846  1.041263 "
      ]
     },
     "metadata": {},
     "output_type": "display_data"
    },
    {
     "data": {
      "text/html": [
       "<table class=\"dataframe\">\n",
       "<caption>A anova: 5 × 3</caption>\n",
       "<thead>\n",
       "\t<tr><th></th><th scope=col>Df</th><th scope=col>F</th><th scope=col>Pr(&gt;F)</th></tr>\n",
       "\t<tr><th></th><th scope=col>&lt;dbl&gt;</th><th scope=col>&lt;dbl&gt;</th><th scope=col>&lt;dbl&gt;</th></tr>\n",
       "</thead>\n",
       "<tbody>\n",
       "\t<tr><th scope=row>EduExp</th><td>  1</td><td> 1.78181</td><td>0.1823422629401638406</td></tr>\n",
       "\t<tr><th scope=row>lag.Mig01</th><td>  1</td><td>56.20850</td><td>0.0000000000001887872</td></tr>\n",
       "\t<tr><th scope=row>TotEmp</th><td>  1</td><td>21.83551</td><td>0.0000035355001166643</td></tr>\n",
       "\t<tr><th scope=row>MigPop</th><td>  1</td><td>28.46017</td><td>0.0000001276286670160</td></tr>\n",
       "\t<tr><th scope=row>Residuals</th><td>732</td><td>      NA</td><td>                   NA</td></tr>\n",
       "</tbody>\n",
       "</table>\n"
      ],
      "text/latex": [
       "A anova: 5 × 3\n",
       "\\begin{tabular}{r|lll}\n",
       "  & Df & F & Pr(>F)\\\\\n",
       "  & <dbl> & <dbl> & <dbl>\\\\\n",
       "\\hline\n",
       "\tEduExp &   1 &  1.78181 & 0.1823422629401638406\\\\\n",
       "\tlag.Mig01 &   1 & 56.20850 & 0.0000000000001887872\\\\\n",
       "\tTotEmp &   1 & 21.83551 & 0.0000035355001166643\\\\\n",
       "\tMigPop &   1 & 28.46017 & 0.0000001276286670160\\\\\n",
       "\tResiduals & 732 &       NA &                    NA\\\\\n",
       "\\end{tabular}\n"
      ],
      "text/markdown": [
       "\n",
       "A anova: 5 × 3\n",
       "\n",
       "| <!--/--> | Df &lt;dbl&gt; | F &lt;dbl&gt; | Pr(&gt;F) &lt;dbl&gt; |\n",
       "|---|---|---|---|\n",
       "| EduExp |   1 |  1.78181 | 0.1823422629401638406 |\n",
       "| lag.Mig01 |   1 | 56.20850 | 0.0000000000001887872 |\n",
       "| TotEmp |   1 | 21.83551 | 0.0000035355001166643 |\n",
       "| MigPop |   1 | 28.46017 | 0.0000001276286670160 |\n",
       "| Residuals | 732 |       NA |                    NA |\n",
       "\n"
      ],
      "text/plain": [
       "          Df  F        Pr(>F)               \n",
       "EduExp      1  1.78181 0.1823422629401638406\n",
       "lag.Mig01   1 56.20850 0.0000000000001887872\n",
       "TotEmp      1 21.83551 0.0000035355001166643\n",
       "MigPop      1 28.46017 0.0000001276286670160\n",
       "Residuals 732       NA                    NA"
      ]
     },
     "metadata": {},
     "output_type": "display_data"
    },
    {
     "data": {
      "text/plain": [
       "\n",
       "\tstudentized Breusch-Pagan test\n",
       "\n",
       "data:  linear_model\n",
       "BP = 25.505, df = 4, p-value = 0.00003982\n"
      ]
     },
     "metadata": {},
     "output_type": "display_data"
    },
    {
     "data": {
      "text/plain": [
       "\n",
       "z test of coefficients:\n",
       "\n",
       "                  Estimate     Std. Error z value              Pr(>|z|)    \n",
       "(Intercept) 24.13131286686  0.68295825926 35.3335 < 0.00000000000000022 ***\n",
       "EduExp      -0.08536556024  0.06395168989 -1.3348                0.1819    \n",
       "lag.Mig01   -0.00000101037  0.00000013477 -7.4972   0.00000000000006518 ***\n",
       "TotEmp      -0.04770842354  0.01020971038 -4.6728   0.00000297051774471 ***\n",
       "MigPop      -0.05498212105  0.01030629910 -5.3348   0.00000009564600602 ***\n",
       "---\n",
       "Signif. codes:  0 ‘***’ 0.001 ‘**’ 0.01 ‘*’ 0.05 ‘.’ 0.1 ‘ ’ 1\n"
      ]
     },
     "metadata": {},
     "output_type": "display_data"
    }
   ],
   "source": [
    "generate_summaries(remRecv01)"
   ]
  },
  {
   "cell_type": "code",
   "execution_count": 330,
   "id": "19dc3c23",
   "metadata": {
    "vscode": {
     "languageId": "r"
    }
   },
   "outputs": [
    {
     "data": {
      "text/plain": [
       "Call:\n",
       "rlm(formula = log1p(RemRecv) ~ (EduExp) + (lag.Mig05) + (TotEmp) + \n",
       "    MigPop, data = gii_wdi)\n",
       "Converged in 7 iterations\n",
       "\n",
       "Coefficients:\n",
       "    (Intercept)          EduExp       lag.Mig05          TotEmp          MigPop \n",
       "24.284201714569 -0.092820056315 -0.000001194879 -0.049861553226 -0.055094030651 \n",
       "\n",
       "Degrees of freedom: 737 total; 732 residual\n",
       "  (15445 observations deleted due to missingness)\n",
       "Scale estimate: 2.45 "
      ]
     },
     "metadata": {},
     "output_type": "display_data"
    },
    {
     "data": {
      "text/html": [
       "737"
      ],
      "text/latex": [
       "737"
      ],
      "text/markdown": [
       "737"
      ],
      "text/plain": [
       "[1] 737"
      ]
     },
     "metadata": {},
     "output_type": "display_data"
    },
    {
     "data": {
      "text/html": [
       "<style>\n",
       ".dl-inline {width: auto; margin:0; padding: 0}\n",
       ".dl-inline>dt, .dl-inline>dd {float: none; width: auto; display: inline-block}\n",
       ".dl-inline>dt::after {content: \":\\0020\"; padding-right: .5ex}\n",
       ".dl-inline>dt:not(:first-of-type) {padding-left: .5ex}\n",
       "</style><dl class=dl-inline><dt>EduExp</dt><dd>1.05173301115253</dd><dt>lag.Mig05</dt><dd>1.06741567395278</dd><dt>TotEmp</dt><dd>1.02189435467297</dd><dt>MigPop</dt><dd>1.04209300102626</dd></dl>\n"
      ],
      "text/latex": [
       "\\begin{description*}\n",
       "\\item[EduExp] 1.05173301115253\n",
       "\\item[lag.Mig05] 1.06741567395278\n",
       "\\item[TotEmp] 1.02189435467297\n",
       "\\item[MigPop] 1.04209300102626\n",
       "\\end{description*}\n"
      ],
      "text/markdown": [
       "EduExp\n",
       ":   1.05173301115253lag.Mig05\n",
       ":   1.06741567395278TotEmp\n",
       ":   1.02189435467297MigPop\n",
       ":   1.04209300102626\n",
       "\n"
      ],
      "text/plain": [
       "   EduExp lag.Mig05    TotEmp    MigPop \n",
       " 1.051733  1.067416  1.021894  1.042093 "
      ]
     },
     "metadata": {},
     "output_type": "display_data"
    },
    {
     "data": {
      "text/html": [
       "<table class=\"dataframe\">\n",
       "<caption>A anova: 5 × 3</caption>\n",
       "<thead>\n",
       "\t<tr><th></th><th scope=col>Df</th><th scope=col>F</th><th scope=col>Pr(&gt;F)</th></tr>\n",
       "\t<tr><th></th><th scope=col>&lt;dbl&gt;</th><th scope=col>&lt;dbl&gt;</th><th scope=col>&lt;dbl&gt;</th></tr>\n",
       "</thead>\n",
       "<tbody>\n",
       "\t<tr><th scope=row>EduExp</th><td>  1</td><td> 2.134156</td><td>0.144478810300233712072</td></tr>\n",
       "\t<tr><th scope=row>lag.Mig05</th><td>  1</td><td>63.875755</td><td>0.000000000000005157519</td></tr>\n",
       "\t<tr><th scope=row>TotEmp</th><td>  1</td><td>23.974082</td><td>0.000001202138158605234</td></tr>\n",
       "\t<tr><th scope=row>MigPop</th><td>  1</td><td>28.758481</td><td>0.000000110043415753655</td></tr>\n",
       "\t<tr><th scope=row>Residuals</th><td>732</td><td>       NA</td><td>                     NA</td></tr>\n",
       "</tbody>\n",
       "</table>\n"
      ],
      "text/latex": [
       "A anova: 5 × 3\n",
       "\\begin{tabular}{r|lll}\n",
       "  & Df & F & Pr(>F)\\\\\n",
       "  & <dbl> & <dbl> & <dbl>\\\\\n",
       "\\hline\n",
       "\tEduExp &   1 &  2.134156 & 0.144478810300233712072\\\\\n",
       "\tlag.Mig05 &   1 & 63.875755 & 0.000000000000005157519\\\\\n",
       "\tTotEmp &   1 & 23.974082 & 0.000001202138158605234\\\\\n",
       "\tMigPop &   1 & 28.758481 & 0.000000110043415753655\\\\\n",
       "\tResiduals & 732 &        NA &                      NA\\\\\n",
       "\\end{tabular}\n"
      ],
      "text/markdown": [
       "\n",
       "A anova: 5 × 3\n",
       "\n",
       "| <!--/--> | Df &lt;dbl&gt; | F &lt;dbl&gt; | Pr(&gt;F) &lt;dbl&gt; |\n",
       "|---|---|---|---|\n",
       "| EduExp |   1 |  2.134156 | 0.144478810300233712072 |\n",
       "| lag.Mig05 |   1 | 63.875755 | 0.000000000000005157519 |\n",
       "| TotEmp |   1 | 23.974082 | 0.000001202138158605234 |\n",
       "| MigPop |   1 | 28.758481 | 0.000000110043415753655 |\n",
       "| Residuals | 732 |        NA |                      NA |\n",
       "\n"
      ],
      "text/plain": [
       "          Df  F         Pr(>F)                 \n",
       "EduExp      1  2.134156 0.144478810300233712072\n",
       "lag.Mig05   1 63.875755 0.000000000000005157519\n",
       "TotEmp      1 23.974082 0.000001202138158605234\n",
       "MigPop      1 28.758481 0.000000110043415753655\n",
       "Residuals 732        NA                      NA"
      ]
     },
     "metadata": {},
     "output_type": "display_data"
    },
    {
     "data": {
      "text/plain": [
       "\n",
       "\tstudentized Breusch-Pagan test\n",
       "\n",
       "data:  linear_model\n",
       "BP = 23.383, df = 4, p-value = 0.0001062\n"
      ]
     },
     "metadata": {},
     "output_type": "display_data"
    },
    {
     "data": {
      "text/plain": [
       "\n",
       "z test of coefficients:\n",
       "\n",
       "                  Estimate     Std. Error z value              Pr(>|z|)    \n",
       "(Intercept) 24.28420171457  0.67961861342 35.7321 < 0.00000000000000022 ***\n",
       "EduExp      -0.09282005632  0.06353729789 -1.4609                 0.144    \n",
       "lag.Mig05   -0.00000119488  0.00000014951 -7.9922  0.000000000000001325 ***\n",
       "TotEmp      -0.04986155323  0.01018344707 -4.8963  0.000000976412947130 ***\n",
       "MigPop      -0.05509403065  0.01027357443 -5.3627  0.000000081990070225 ***\n",
       "---\n",
       "Signif. codes:  0 ‘***’ 0.001 ‘**’ 0.01 ‘*’ 0.05 ‘.’ 0.1 ‘ ’ 1\n"
      ]
     },
     "metadata": {},
     "output_type": "display_data"
    }
   ],
   "source": [
    "generate_summaries(remRecv05)"
   ]
  },
  {
   "cell_type": "code",
   "execution_count": 331,
   "id": "6d39052e",
   "metadata": {
    "vscode": {
     "languageId": "r"
    }
   },
   "outputs": [
    {
     "data": {
      "text/plain": [
       "Call:\n",
       "rlm(formula = log1p(RemRecv) ~ (EduExp) + (lag.Mig10) + (TotEmp) + \n",
       "    MigPop, data = gii_wdi)\n",
       "Converged in 6 iterations\n",
       "\n",
       "Coefficients:\n",
       "    (Intercept)          EduExp       lag.Mig10          TotEmp          MigPop \n",
       "24.293656286249 -0.096834063582 -0.000001232071 -0.049497061607 -0.056429263152 \n",
       "\n",
       "Degrees of freedom: 737 total; 732 residual\n",
       "  (15445 observations deleted due to missingness)\n",
       "Scale estimate: 2.51 "
      ]
     },
     "metadata": {},
     "output_type": "display_data"
    },
    {
     "data": {
      "text/html": [
       "737"
      ],
      "text/latex": [
       "737"
      ],
      "text/markdown": [
       "737"
      ],
      "text/plain": [
       "[1] 737"
      ]
     },
     "metadata": {},
     "output_type": "display_data"
    },
    {
     "data": {
      "text/html": [
       "<style>\n",
       ".dl-inline {width: auto; margin:0; padding: 0}\n",
       ".dl-inline>dt, .dl-inline>dd {float: none; width: auto; display: inline-block}\n",
       ".dl-inline>dt::after {content: \":\\0020\"; padding-right: .5ex}\n",
       ".dl-inline>dt:not(:first-of-type) {padding-left: .5ex}\n",
       "</style><dl class=dl-inline><dt>EduExp</dt><dd>1.04836635246421</dd><dt>lag.Mig10</dt><dd>1.06221311554314</dd><dt>TotEmp</dt><dd>1.02250327373538</dd><dt>MigPop</dt><dd>1.04022258746298</dd></dl>\n"
      ],
      "text/latex": [
       "\\begin{description*}\n",
       "\\item[EduExp] 1.04836635246421\n",
       "\\item[lag.Mig10] 1.06221311554314\n",
       "\\item[TotEmp] 1.02250327373538\n",
       "\\item[MigPop] 1.04022258746298\n",
       "\\end{description*}\n"
      ],
      "text/markdown": [
       "EduExp\n",
       ":   1.04836635246421lag.Mig10\n",
       ":   1.06221311554314TotEmp\n",
       ":   1.02250327373538MigPop\n",
       ":   1.04022258746298\n",
       "\n"
      ],
      "text/plain": [
       "   EduExp lag.Mig10    TotEmp    MigPop \n",
       " 1.048366  1.062213  1.022503  1.040223 "
      ]
     },
     "metadata": {},
     "output_type": "display_data"
    },
    {
     "data": {
      "text/html": [
       "<table class=\"dataframe\">\n",
       "<caption>A anova: 5 × 3</caption>\n",
       "<thead>\n",
       "\t<tr><th></th><th scope=col>Df</th><th scope=col>F</th><th scope=col>Pr(&gt;F)</th></tr>\n",
       "\t<tr><th></th><th scope=col>&lt;dbl&gt;</th><th scope=col>&lt;dbl&gt;</th><th scope=col>&lt;dbl&gt;</th></tr>\n",
       "</thead>\n",
       "<tbody>\n",
       "\t<tr><th scope=row>EduExp</th><td>  1</td><td> 2.32772</td><td>0.12751985718601815956</td></tr>\n",
       "\t<tr><th scope=row>lag.Mig10</th><td>  1</td><td>58.68353</td><td>0.00000000000005878378</td></tr>\n",
       "\t<tr><th scope=row>TotEmp</th><td>  1</td><td>23.58576</td><td>0.00000146153418700642</td></tr>\n",
       "\t<tr><th scope=row>MigPop</th><td>  1</td><td>30.19154</td><td>0.00000005406190335610</td></tr>\n",
       "\t<tr><th scope=row>Residuals</th><td>732</td><td>      NA</td><td>                    NA</td></tr>\n",
       "</tbody>\n",
       "</table>\n"
      ],
      "text/latex": [
       "A anova: 5 × 3\n",
       "\\begin{tabular}{r|lll}\n",
       "  & Df & F & Pr(>F)\\\\\n",
       "  & <dbl> & <dbl> & <dbl>\\\\\n",
       "\\hline\n",
       "\tEduExp &   1 &  2.32772 & 0.12751985718601815956\\\\\n",
       "\tlag.Mig10 &   1 & 58.68353 & 0.00000000000005878378\\\\\n",
       "\tTotEmp &   1 & 23.58576 & 0.00000146153418700642\\\\\n",
       "\tMigPop &   1 & 30.19154 & 0.00000005406190335610\\\\\n",
       "\tResiduals & 732 &       NA &                     NA\\\\\n",
       "\\end{tabular}\n"
      ],
      "text/markdown": [
       "\n",
       "A anova: 5 × 3\n",
       "\n",
       "| <!--/--> | Df &lt;dbl&gt; | F &lt;dbl&gt; | Pr(&gt;F) &lt;dbl&gt; |\n",
       "|---|---|---|---|\n",
       "| EduExp |   1 |  2.32772 | 0.12751985718601815956 |\n",
       "| lag.Mig10 |   1 | 58.68353 | 0.00000000000005878378 |\n",
       "| TotEmp |   1 | 23.58576 | 0.00000146153418700642 |\n",
       "| MigPop |   1 | 30.19154 | 0.00000005406190335610 |\n",
       "| Residuals | 732 |       NA |                     NA |\n",
       "\n"
      ],
      "text/plain": [
       "          Df  F        Pr(>F)                \n",
       "EduExp      1  2.32772 0.12751985718601815956\n",
       "lag.Mig10   1 58.68353 0.00000000000005878378\n",
       "TotEmp      1 23.58576 0.00000146153418700642\n",
       "MigPop      1 30.19154 0.00000005406190335610\n",
       "Residuals 732       NA                     NA"
      ]
     },
     "metadata": {},
     "output_type": "display_data"
    },
    {
     "data": {
      "text/plain": [
       "\n",
       "\tstudentized Breusch-Pagan test\n",
       "\n",
       "data:  linear_model\n",
       "BP = 26.75, df = 4, p-value = 0.00002233\n"
      ]
     },
     "metadata": {},
     "output_type": "display_data"
    },
    {
     "data": {
      "text/plain": [
       "\n",
       "z test of coefficients:\n",
       "\n",
       "                  Estimate     Std. Error z value              Pr(>|z|)    \n",
       "(Intercept) 24.29365628625  0.67974056905 35.7396 < 0.00000000000000022 ***\n",
       "EduExp      -0.09683406358  0.06346916987 -1.5257                0.1271    \n",
       "lag.Mig10   -0.00000123207  0.00000016083 -7.6605   0.00000000000001852 ***\n",
       "TotEmp      -0.04949706161  0.01019188364 -4.8565   0.00000119468207820 ***\n",
       "MigPop      -0.05642926315  0.01026979477 -5.4947   0.00000003914136368 ***\n",
       "---\n",
       "Signif. codes:  0 ‘***’ 0.001 ‘**’ 0.01 ‘*’ 0.05 ‘.’ 0.1 ‘ ’ 1\n"
      ]
     },
     "metadata": {},
     "output_type": "display_data"
    }
   ],
   "source": [
    "generate_summaries(remRecv10)"
   ]
  },
  {
   "cell_type": "code",
   "execution_count": 332,
   "id": "f6fda55b",
   "metadata": {
    "vscode": {
     "languageId": "r"
    }
   },
   "outputs": [
    {
     "data": {
      "text/plain": [
       "Call:\n",
       "rlm(formula = log1p(RemRecv) ~ (EduExp) + (lag.Mig20) + (TotEmp) + \n",
       "    MigPop, data = gii_wdi)\n",
       "Converged in 6 iterations\n",
       "\n",
       "Coefficients:\n",
       "    (Intercept)          EduExp       lag.Mig20          TotEmp          MigPop \n",
       "24.439521045833 -0.100965409546 -0.000001354609 -0.050758646038 -0.061286900004 \n",
       "\n",
       "Degrees of freedom: 737 total; 732 residual\n",
       "  (15445 observations deleted due to missingness)\n",
       "Scale estimate: 2.54 "
      ]
     },
     "metadata": {},
     "output_type": "display_data"
    },
    {
     "data": {
      "text/html": [
       "737"
      ],
      "text/latex": [
       "737"
      ],
      "text/markdown": [
       "737"
      ],
      "text/plain": [
       "[1] 737"
      ]
     },
     "metadata": {},
     "output_type": "display_data"
    },
    {
     "data": {
      "text/html": [
       "<style>\n",
       ".dl-inline {width: auto; margin:0; padding: 0}\n",
       ".dl-inline>dt, .dl-inline>dd {float: none; width: auto; display: inline-block}\n",
       ".dl-inline>dt::after {content: \":\\0020\"; padding-right: .5ex}\n",
       ".dl-inline>dt:not(:first-of-type) {padding-left: .5ex}\n",
       "</style><dl class=dl-inline><dt>EduExp</dt><dd>1.05009293568219</dd><dt>lag.Mig20</dt><dd>1.05605255042964</dd><dt>TotEmp</dt><dd>1.02403110375552</dd><dt>MigPop</dt><dd>1.0309573452433</dd></dl>\n"
      ],
      "text/latex": [
       "\\begin{description*}\n",
       "\\item[EduExp] 1.05009293568219\n",
       "\\item[lag.Mig20] 1.05605255042964\n",
       "\\item[TotEmp] 1.02403110375552\n",
       "\\item[MigPop] 1.0309573452433\n",
       "\\end{description*}\n"
      ],
      "text/markdown": [
       "EduExp\n",
       ":   1.05009293568219lag.Mig20\n",
       ":   1.05605255042964TotEmp\n",
       ":   1.02403110375552MigPop\n",
       ":   1.0309573452433\n",
       "\n"
      ],
      "text/plain": [
       "   EduExp lag.Mig20    TotEmp    MigPop \n",
       " 1.050093  1.056053  1.024031  1.030957 "
      ]
     },
     "metadata": {},
     "output_type": "display_data"
    },
    {
     "data": {
      "text/html": [
       "<table class=\"dataframe\">\n",
       "<caption>A anova: 5 × 3</caption>\n",
       "<thead>\n",
       "\t<tr><th></th><th scope=col>Df</th><th scope=col>F</th><th scope=col>Pr(&gt;F)</th></tr>\n",
       "\t<tr><th></th><th scope=col>&lt;dbl&gt;</th><th scope=col>&lt;dbl&gt;</th><th scope=col>&lt;dbl&gt;</th></tr>\n",
       "</thead>\n",
       "<tbody>\n",
       "\t<tr><th scope=row>EduExp</th><td>  1</td><td> 2.400661</td><td>0.1217162318664850</td></tr>\n",
       "\t<tr><th scope=row>lag.Mig20</th><td>  1</td><td>39.440304</td><td>0.0000000005797748</td></tr>\n",
       "\t<tr><th scope=row>TotEmp</th><td>  1</td><td>23.533611</td><td>0.0000015004175753</td></tr>\n",
       "\t<tr><th scope=row>MigPop</th><td>  1</td><td>34.144694</td><td>0.0000000076994865</td></tr>\n",
       "\t<tr><th scope=row>Residuals</th><td>732</td><td>       NA</td><td>                NA</td></tr>\n",
       "</tbody>\n",
       "</table>\n"
      ],
      "text/latex": [
       "A anova: 5 × 3\n",
       "\\begin{tabular}{r|lll}\n",
       "  & Df & F & Pr(>F)\\\\\n",
       "  & <dbl> & <dbl> & <dbl>\\\\\n",
       "\\hline\n",
       "\tEduExp &   1 &  2.400661 & 0.1217162318664850\\\\\n",
       "\tlag.Mig20 &   1 & 39.440304 & 0.0000000005797748\\\\\n",
       "\tTotEmp &   1 & 23.533611 & 0.0000015004175753\\\\\n",
       "\tMigPop &   1 & 34.144694 & 0.0000000076994865\\\\\n",
       "\tResiduals & 732 &        NA &                 NA\\\\\n",
       "\\end{tabular}\n"
      ],
      "text/markdown": [
       "\n",
       "A anova: 5 × 3\n",
       "\n",
       "| <!--/--> | Df &lt;dbl&gt; | F &lt;dbl&gt; | Pr(&gt;F) &lt;dbl&gt; |\n",
       "|---|---|---|---|\n",
       "| EduExp |   1 |  2.400661 | 0.1217162318664850 |\n",
       "| lag.Mig20 |   1 | 39.440304 | 0.0000000005797748 |\n",
       "| TotEmp |   1 | 23.533611 | 0.0000015004175753 |\n",
       "| MigPop |   1 | 34.144694 | 0.0000000076994865 |\n",
       "| Residuals | 732 |        NA |                 NA |\n",
       "\n"
      ],
      "text/plain": [
       "          Df  F         Pr(>F)            \n",
       "EduExp      1  2.400661 0.1217162318664850\n",
       "lag.Mig20   1 39.440304 0.0000000005797748\n",
       "TotEmp      1 23.533611 0.0000015004175753\n",
       "MigPop      1 34.144694 0.0000000076994865\n",
       "Residuals 732        NA                 NA"
      ]
     },
     "metadata": {},
     "output_type": "display_data"
    },
    {
     "data": {
      "text/plain": [
       "\n",
       "\tstudentized Breusch-Pagan test\n",
       "\n",
       "data:  linear_model\n",
       "BP = 24.877, df = 4, p-value = 0.00005325\n"
      ]
     },
     "metadata": {},
     "output_type": "display_data"
    },
    {
     "data": {
      "text/plain": [
       "\n",
       "z test of coefficients:\n",
       "\n",
       "                 Estimate    Std. Error z value              Pr(>|z|)    \n",
       "(Intercept) 24.4395210458  0.6971351656 35.0571 < 0.00000000000000022 ***\n",
       "EduExp      -0.1009654095  0.0651639227 -1.5494                0.1213    \n",
       "lag.Mig20   -0.0000013546  0.0000002157 -6.2802       0.0000000003382 ***\n",
       "TotEmp      -0.0507586460  0.0104632294 -4.8511       0.0000012275058 ***\n",
       "MigPop      -0.0612869000  0.0104883228 -5.8433       0.0000000051163 ***\n",
       "---\n",
       "Signif. codes:  0 ‘***’ 0.001 ‘**’ 0.01 ‘*’ 0.05 ‘.’ 0.1 ‘ ’ 1\n"
      ]
     },
     "metadata": {},
     "output_type": "display_data"
    }
   ],
   "source": [
    "generate_summaries(remRecv20)"
   ]
  }
 ],
 "metadata": {
  "kernelspec": {
   "display_name": "R",
   "language": "R",
   "name": "ir"
  },
  "language_info": {
   "codemirror_mode": "r",
   "file_extension": ".r",
   "mimetype": "text/x-r-source",
   "name": "R",
   "pygments_lexer": "r",
   "version": "4.2.2"
  },
  "vscode": {
   "interpreter": {
    "hash": "1a1af0ee75eeea9e2e1ee996c87e7a2b11a0bebd85af04bb136d915cefc0abce"
   }
  }
 },
 "nbformat": 4,
 "nbformat_minor": 5
}
