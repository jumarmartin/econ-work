{
 "cells": [
  {
   "cell_type": "code",
   "execution_count": 1,
   "id": "d65fbf65",
   "metadata": {
    "vscode": {
     "languageId": "r"
    }
   },
   "outputs": [
    {
     "name": "stderr",
     "output_type": "stream",
     "text": [
      "Loading required package: pacman\n",
      "\n"
     ]
    }
   ],
   "source": [
    "# install stuff, set scientific variables to 999 to avoid scientific notation\n",
    "if(!require(\"pacman\")) install.packages(\"pacman\")\n",
    "pacman::p_load(WDI, tidyr, dplyr, knitr, broom)\n",
    "options(scipen = 999)"
   ]
  },
  {
   "cell_type": "code",
   "execution_count": 2,
   "id": "6eb74a3b",
   "metadata": {
    "vscode": {
     "languageId": "r"
    }
   },
   "outputs": [],
   "source": [
    "# get all of the WDI indicators if indicator file is not already downloaded\n",
    "indicators <- if (file.exists(\"indicators.csv\")) read.csv(\"indicators.csv\") else WDI(indicator = c(\"SL.EMP.TOTL.SP.ZS\", \"SE.XPD.TOTL.GD.ZS\", \"NY.GDP.PCAP.CD\", \"SM.POP.NETM\", \"SE.TER.CUAT.BA.ZS\"), country = \"all\") %>% write.csv(\"indicators.csv\")\n",
    "# rename the columns\n",
    "wdi_indicators <- rename(indicators, c(\"Country Code\" = \"iso3c\", \"Total Employment\" = \"SL.EMP.TOTL.SP.ZS\", \"Education Expenditure % of GDP\" = \"SE.XPD.TOTL.GD.ZS\", \"GDP per capita\" = \"NY.GDP.PCAP.CD\", \"Net Migration\" = \"SM.POP.NETM\", \"PCT Tertiary Education\" = \"SE.TER.CUAT.BA.ZS\"))"
   ]
  },
  {
   "cell_type": "code",
   "execution_count": 3,
   "id": "f47c60b0",
   "metadata": {
    "vscode": {
     "languageId": "r"
    }
   },
   "outputs": [
    {
     "data": {
      "text/html": [
       "<table class=\"dataframe\">\n",
       "<caption>A data.frame: 6 × 4</caption>\n",
       "<thead>\n",
       "\t<tr><th></th><th scope=col>Country.ISO3</th><th scope=col>year</th><th scope=col>Score</th><th scope=col>Rank</th></tr>\n",
       "\t<tr><th></th><th scope=col>&lt;chr&gt;</th><th scope=col>&lt;chr&gt;</th><th scope=col>&lt;dbl&gt;</th><th scope=col>&lt;dbl&gt;</th></tr>\n",
       "</thead>\n",
       "<tbody>\n",
       "\t<tr><th scope=row>1</th><td>AGO</td><td>X2013</td><td>23.5</td><td>135</td></tr>\n",
       "\t<tr><th scope=row>2</th><td>AGO</td><td>X2014</td><td>23.8</td><td>135</td></tr>\n",
       "\t<tr><th scope=row>3</th><td>AGO</td><td>X2015</td><td>26.2</td><td>120</td></tr>\n",
       "\t<tr><th scope=row>4</th><td>AGO</td><td>X2016</td><td>  NA</td><td> NA</td></tr>\n",
       "\t<tr><th scope=row>5</th><td>AGO</td><td>X2017</td><td>  NA</td><td> NA</td></tr>\n",
       "\t<tr><th scope=row>6</th><td>AGO</td><td>X2018</td><td>  NA</td><td> NA</td></tr>\n",
       "</tbody>\n",
       "</table>\n"
      ],
      "text/latex": [
       "A data.frame: 6 × 4\n",
       "\\begin{tabular}{r|llll}\n",
       "  & Country.ISO3 & year & Score & Rank\\\\\n",
       "  & <chr> & <chr> & <dbl> & <dbl>\\\\\n",
       "\\hline\n",
       "\t1 & AGO & X2013 & 23.5 & 135\\\\\n",
       "\t2 & AGO & X2014 & 23.8 & 135\\\\\n",
       "\t3 & AGO & X2015 & 26.2 & 120\\\\\n",
       "\t4 & AGO & X2016 &   NA &  NA\\\\\n",
       "\t5 & AGO & X2017 &   NA &  NA\\\\\n",
       "\t6 & AGO & X2018 &   NA &  NA\\\\\n",
       "\\end{tabular}\n"
      ],
      "text/markdown": [
       "\n",
       "A data.frame: 6 × 4\n",
       "\n",
       "| <!--/--> | Country.ISO3 &lt;chr&gt; | year &lt;chr&gt; | Score &lt;dbl&gt; | Rank &lt;dbl&gt; |\n",
       "|---|---|---|---|---|\n",
       "| 1 | AGO | X2013 | 23.5 | 135 |\n",
       "| 2 | AGO | X2014 | 23.8 | 135 |\n",
       "| 3 | AGO | X2015 | 26.2 | 120 |\n",
       "| 4 | AGO | X2016 |   NA |  NA |\n",
       "| 5 | AGO | X2017 |   NA |  NA |\n",
       "| 6 | AGO | X2018 |   NA |  NA |\n",
       "\n"
      ],
      "text/plain": [
       "  Country.ISO3 year  Score Rank\n",
       "1 AGO          X2013 23.5  135 \n",
       "2 AGO          X2014 23.8  135 \n",
       "3 AGO          X2015 26.2  120 \n",
       "4 AGO          X2016   NA   NA \n",
       "5 AGO          X2017   NA   NA \n",
       "6 AGO          X2018   NA   NA "
      ]
     },
     "metadata": {},
     "output_type": "display_data"
    }
   ],
   "source": [
    "gii <- read.csv(\"./gii_analysis/gii_2013_2020.csv\")\n",
    "# filter out the rows where the indicator is \"Global Innovation Index\" and the subindicator type is \"Score\"\n",
    "gii_score <- gii %>% filter(Indicator == \"Global Innovation Index\", Subindicator.Type == \"Score (0-100)\")\n",
    "gii_score <- gii_score %>%\n",
    "    gather(year, value, X2013:X2020) %>%\n",
    "    select(-Indicator, -Indicator.Id, -Country.Name) %>%\n",
    "    spread(Subindicator.Type, value)\n",
    "gii_score <- rename(gii_score, c(\"Score\" = \"Score (0-100)\"))\n",
    "\n",
    "# filter out the rows where the indicator is \"Global Innovation Index\" and the subindicator type is \"Rank\"\n",
    "gii_rank <- gii %>% filter(Indicator == \"Global Innovation Index\", Subindicator.Type == \"Rank\")\n",
    "gii_rank <- gii_rank %>%\n",
    "    gather(year, value, X2013:X2020) %>%\n",
    "    select(-Indicator, -Country.Name, -Indicator.Id) %>%\n",
    "    spread(Subindicator.Type, value)\n",
    "\n",
    "# merge into one dataframe\n",
    "gii_rank_score <- merge(gii_score, gii_rank, by = c(\"Country.ISO3\", \"year\"))\n",
    "head(gii_rank_score)\n",
    "# remove the X from the year column and convert to integer\n",
    "gii_rank_score$year <- as.integer(gsub(\"X\", \"\", gii_rank_score$year))\n"
   ]
  },
  {
   "cell_type": "code",
   "execution_count": 14,
   "id": "8fb0922d",
   "metadata": {
    "vscode": {
     "languageId": "r"
    }
   },
   "outputs": [],
   "source": [
    "# merge gii_rank_score with wdi_indicators\n",
    "gii_wdi <- gii_rank_score %>% right_join(wdi_indicators, by = c(\"Country.ISO3\" = \"Country Code\", \"year\" = \"year\"), all.y = TRUE)\n",
    "# rename the columns\n",
    "gii_wdi <- gii_wdi %>%\n",
    "    rename(c(\"CountryCode\" = \"Country.ISO3\", \"Year\" = \"year\", \"Edu\" = \"PCT Tertiary Education\", \"Mig\" = \"Net Migration\", \"EduExp\" = \"Education Expenditure % of GDP\", \"TotEmp\" = \"Total Employment\")) %>%\n",
    "    select(\"Year\", \"CountryCode\", \"Score\", \"Rank\", \"Edu\", \"Mig\", \"EduExp\", \"TotEmp\")\n",
    "\n",
    "# write out gii_wdi to csv if it doesn't already exist\n",
    "if (!file.exists(\"./gii_analysis/gii_wdi.csv\")) write.csv(gii_wdi, \"./gii_analysis/gii_wdi.csv\")\n",
    "\n",
    "# lag everything.\n",
    "gii_wdi <- gii_wdi %>%\n",
    "    group_by(CountryCode) %>%\n",
    "    mutate(lag.Mig01 = lag(Mig, n = 1, default = NA)) %>%\n",
    "    mutate(lag.Mig05 = lag(Mig, n = 5, default = NA)) %>%\n",
    "    mutate(lag.Mig10 = lag(Mig, n = 10, default = NA)) %>%\n",
    "    mutate(lag.Mig20 = lag(Mig, n = 20, default = NA)) %>%\n",
    "    mutate(lag.Edu01 = lag(Edu, n = 1, default = NA)) %>%\n",
    "    mutate(lag.Edu05 = lag(Edu, n = 5, default = NA)) %>%\n",
    "    mutate(lag.Edu10 = lag(Edu, n = 10, default = NA)) %>%\n",
    "    mutate(lag.Edu20 = lag(Edu, n = 20, default = NA)) %>%\n",
    "    mutate(lag.EduExp01 = lag(EduExp, n = 1, default = NA)) %>%\n",
    "    mutate(lag.EduExp05 = lag(EduExp, n = 5, default = NA)) %>%\n",
    "    mutate(lag.EduExp10 = lag(EduExp, n = 10, default = NA)) %>%\n",
    "    mutate(lag.EduExp20 = lag(EduExp, n = 20, default = NA)) %>%\n",
    "    mutate(lag.TotEmp01 = lag(TotEmp, n = 1, default = NA)) %>%\n",
    "    mutate(lag.TotEmp05 = lag(TotEmp, n = 5, default = NA)) %>%\n",
    "    mutate(lag.TotEmp10 = lag(TotEmp, n = 10, default = NA)) %>%\n",
    "    mutate(lag.TotEmp20 = lag(TotEmp, n = 20, default = NA))"
   ]
  },
  {
   "cell_type": "code",
   "execution_count": 10,
   "id": "22d186db",
   "metadata": {
    "vscode": {
     "languageId": "r"
    }
   },
   "outputs": [
    {
     "data": {
      "text/html": [
       "276"
      ],
      "text/latex": [
       "276"
      ],
      "text/markdown": [
       "276"
      ],
      "text/plain": [
       "[1] 276"
      ]
     },
     "metadata": {},
     "output_type": "display_data"
    },
    {
     "data": {
      "text/plain": [
       "\n",
       "Call:\n",
       "lm(formula = Score ~ lag.Mig01 + lag.Edu01 + lag.TotEmp01 + lag.EduExp01, \n",
       "    data = gii_wdi)\n",
       "\n",
       "Residuals:\n",
       "     Min       1Q   Median       3Q      Max \n",
       "-28.5547  -4.8131  -0.3217   4.8295  16.7270 \n",
       "\n",
       "Coefficients:\n",
       "                 Estimate   Std. Error t value             Pr(>|t|)    \n",
       "(Intercept)  16.447633797  3.876665857   4.243      0.0000303437851 ***\n",
       "lag.Mig01     0.000010125  0.000002526   4.008      0.0000792820792 ***\n",
       "lag.Edu01     0.749106223  0.056630047  13.228 < 0.0000000000000002 ***\n",
       "lag.TotEmp01 -0.016558744  0.054696231  -0.303                0.762    \n",
       "lag.EduExp01  2.244549820  0.331449533   6.772      0.0000000000787 ***\n",
       "---\n",
       "Signif. codes:  0 ‘***’ 0.001 ‘**’ 0.01 ‘*’ 0.05 ‘.’ 0.1 ‘ ’ 1\n",
       "\n",
       "Residual standard error: 7.788 on 271 degrees of freedom\n",
       "  (16216 observations deleted due to missingness)\n",
       "Multiple R-squared:  0.5717,\tAdjusted R-squared:  0.5653 \n",
       "F-statistic: 90.42 on 4 and 271 DF,  p-value: < 0.00000000000000022\n"
      ]
     },
     "metadata": {},
     "output_type": "display_data"
    }
   ],
   "source": [
    "lag1 <- lm(Score ~ lag.Mig01 + lag.Edu01 + lag.TotEmp01 + lag.EduExp01, data = gii_wdi)\n",
    "nobs(lag1)\n",
    "summary(lag1)"
   ]
  },
  {
   "cell_type": "code",
   "execution_count": 11,
   "id": "def916a5",
   "metadata": {
    "vscode": {
     "languageId": "r"
    }
   },
   "outputs": [
    {
     "data": {
      "text/html": [
       "118"
      ],
      "text/latex": [
       "118"
      ],
      "text/markdown": [
       "118"
      ],
      "text/plain": [
       "[1] 118"
      ]
     },
     "metadata": {},
     "output_type": "display_data"
    },
    {
     "data": {
      "text/plain": [
       "\n",
       "Call:\n",
       "lm(formula = Score ~ lag.Mig05 + lag.Edu05 + lag.TotEmp05 + lag.EduExp05, \n",
       "    data = gii_wdi)\n",
       "\n",
       "Residuals:\n",
       "     Min       1Q   Median       3Q      Max \n",
       "-28.3616  -4.6885  -0.8597   3.8622  15.8738 \n",
       "\n",
       "Coefficients:\n",
       "                 Estimate   Std. Error t value             Pr(>|t|)    \n",
       "(Intercept)  16.376798851  5.413838107   3.025             0.003079 ** \n",
       "lag.Mig05     0.000010133  0.000004214   2.405             0.017800 *  \n",
       "lag.Edu05     0.864284832  0.089511167   9.656 < 0.0000000000000002 ***\n",
       "lag.TotEmp05 -0.034747696  0.080111199  -0.434             0.665302    \n",
       "lag.EduExp05  1.951629228  0.506653499   3.852             0.000195 ***\n",
       "---\n",
       "Signif. codes:  0 ‘***’ 0.001 ‘**’ 0.01 ‘*’ 0.05 ‘.’ 0.1 ‘ ’ 1\n",
       "\n",
       "Residual standard error: 7.587 on 113 degrees of freedom\n",
       "  (16374 observations deleted due to missingness)\n",
       "Multiple R-squared:  0.6161,\tAdjusted R-squared:  0.6025 \n",
       "F-statistic: 45.34 on 4 and 113 DF,  p-value: < 0.00000000000000022\n"
      ]
     },
     "metadata": {},
     "output_type": "display_data"
    }
   ],
   "source": [
    "lag05 <- lm(Score ~ lag.Mig05 + lag.Edu05 + lag.TotEmp05 + lag.EduExp05, data = gii_wdi)\n",
    "nobs(lag05)\n",
    "summary(lag05)"
   ]
  },
  {
   "cell_type": "code",
   "execution_count": 12,
   "id": "0b1de4d3",
   "metadata": {
    "vscode": {
     "languageId": "r"
    }
   },
   "outputs": [
    {
     "ename": "ERROR",
     "evalue": "Error in lm.fit(x, y, offset = offset, singular.ok = singular.ok, ...): 0 (non-NA) cases\n",
     "output_type": "error",
     "traceback": [
      "Error in lm.fit(x, y, offset = offset, singular.ok = singular.ok, ...): 0 (non-NA) cases\nTraceback:\n",
      "1. lm(Score ~ lag.Mig10 + lag.Edu10 + lag.TotEmp10 + lag.EduExp10, \n .     data = gii_wdi)",
      "2. lm.fit(x, y, offset = offset, singular.ok = singular.ok, ...)",
      "3. stop(\"0 (non-NA) cases\")"
     ]
    }
   ],
   "source": [
    "lag10 <- lm(Score ~ lag.Mig10 + lag.Edu10 + lag.TotEmp10 + lag.EduExp10, data = gii_wdi)\n",
    "nobs(lag10)\n",
    "summary(lag10)"
   ]
  },
  {
   "cell_type": "code",
   "execution_count": 13,
   "id": "77f0beec",
   "metadata": {
    "vscode": {
     "languageId": "r"
    }
   },
   "outputs": [
    {
     "ename": "ERROR",
     "evalue": "Error in lm.fit(x, y, offset = offset, singular.ok = singular.ok, ...): 0 (non-NA) cases\n",
     "output_type": "error",
     "traceback": [
      "Error in lm.fit(x, y, offset = offset, singular.ok = singular.ok, ...): 0 (non-NA) cases\nTraceback:\n",
      "1. lm(Score ~ lag.Mig20 + lag.Edu20 + lag.TotEmp20 + lag.EduExp20, \n .     data = gii_wdi)",
      "2. lm.fit(x, y, offset = offset, singular.ok = singular.ok, ...)",
      "3. stop(\"0 (non-NA) cases\")"
     ]
    }
   ],
   "source": [
    "lag20 <- lm(Score ~ lag.Mig20 + lag.Edu20 + lag.TotEmp20 + lag.EduExp20, data = gii_wdi)\n",
    "nobs(lag20)\n",
    "summary(lag20)"
   ]
  },
  {
   "cell_type": "code",
   "execution_count": null,
   "id": "fb247e32",
   "metadata": {
    "vscode": {
     "languageId": "r"
    }
   },
   "outputs": [],
   "source": []
  }
 ],
 "metadata": {
  "kernelspec": {
   "display_name": "R",
   "language": "R",
   "name": "ir"
  },
  "language_info": {
   "codemirror_mode": "r",
   "file_extension": ".r",
   "mimetype": "text/x-r-source",
   "name": "R",
   "pygments_lexer": "r",
   "version": "4.2.2"
  },
  "vscode": {
   "interpreter": {
    "hash": "1a1af0ee75eeea9e2e1ee996c87e7a2b11a0bebd85af04bb136d915cefc0abce"
   }
  }
 },
 "nbformat": 4,
 "nbformat_minor": 5
}
