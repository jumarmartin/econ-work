{
 "cells": [
  {
   "cell_type": "code",
   "execution_count": 7,
   "id": "d65fbf65",
   "metadata": {
    "vscode": {
     "languageId": "r"
    }
   },
   "outputs": [
    {
     "name": "stderr",
     "output_type": "stream",
     "text": [
      "Loading required package: pacman\n",
      "\n",
      "Installing package into ‘/home/codespace/R/x86_64-pc-linux-gnu-library/3.6’\n",
      "(as ‘lib’ is unspecified)\n",
      "\n",
      "Warning message:\n",
      "“dependency ‘pbkrtest’ is not available”\n",
      "Warning message in utils::install.packages(package, ...):\n",
      "“installation of package ‘car’ had non-zero exit status”\n",
      "Warning message in p_install(package, character.only = TRUE, ...):\n",
      "“”\n",
      "Warning message in library(package, lib.loc = lib.loc, character.only = TRUE, logical.return = TRUE, :\n",
      "“there is no package called ‘car’”\n",
      "Warning message in pacman::p_load(WDI, tidyr, car, dplyr, knitr, broom):\n",
      "“Failed to install/load:\n",
      "car”\n"
     ]
    }
   ],
   "source": [
    "# install stuff, set scientific variables to 999 to avoid scientific notation\n",
    "if(!require(\"pacman\")) install.packages(\"pacman\")\n",
    "pacman::p_load(WDI, tidyr, car, dplyr, knitr, broom)\n",
    "options(scipen = 999)"
   ]
  },
  {
   "cell_type": "code",
   "execution_count": 2,
   "id": "6eb74a3b",
   "metadata": {
    "vscode": {
     "languageId": "r"
    }
   },
   "outputs": [],
   "source": [
    "# get all of the WDI indicators if indicator file is not already downloaded\n",
    "indicators <- if (file.exists(\"indicators.csv\")) read.csv(\"indicators.csv\") else WDI(indicator = c(\"SL.EMP.TOTL.SP.ZS\", \"SE.XPD.TOTL.GD.ZS\", \"NY.GDP.PCAP.CD\", \"SM.POP.NETM\", \"SE.TER.CUAT.BA.ZS\"), country = \"all\") %>% write.csv(\"indicators.csv\")\n",
    "# rename the columns\n",
    "wdi_indicators <- rename(indicators, c(\"Country Code\" = \"iso3c\", \"Total Employment\" = \"SL.EMP.TOTL.SP.ZS\", \"Education Expenditure % of GDP\" = \"SE.XPD.TOTL.GD.ZS\", \"GDP per capita\" = \"NY.GDP.PCAP.CD\", \"Net Migration\" = \"SM.POP.NETM\", \"PCT Tertiary Education\" = \"SE.TER.CUAT.BA.ZS\"))"
   ]
  },
  {
   "cell_type": "code",
   "execution_count": 3,
   "id": "f47c60b0",
   "metadata": {
    "vscode": {
     "languageId": "r"
    }
   },
   "outputs": [
    {
     "data": {
      "text/html": [
       "<table class=\"dataframe\">\n",
       "<caption>A data.frame: 6 × 4</caption>\n",
       "<thead>\n",
       "\t<tr><th></th><th scope=col>Country.ISO3</th><th scope=col>year</th><th scope=col>Score</th><th scope=col>Rank</th></tr>\n",
       "\t<tr><th></th><th scope=col>&lt;fct&gt;</th><th scope=col>&lt;chr&gt;</th><th scope=col>&lt;dbl&gt;</th><th scope=col>&lt;dbl&gt;</th></tr>\n",
       "</thead>\n",
       "<tbody>\n",
       "\t<tr><th scope=row>1</th><td>AGO</td><td>X2013</td><td>23.5</td><td>135</td></tr>\n",
       "\t<tr><th scope=row>2</th><td>AGO</td><td>X2014</td><td>23.8</td><td>135</td></tr>\n",
       "\t<tr><th scope=row>3</th><td>AGO</td><td>X2015</td><td>26.2</td><td>120</td></tr>\n",
       "\t<tr><th scope=row>4</th><td>AGO</td><td>X2016</td><td>  NA</td><td> NA</td></tr>\n",
       "\t<tr><th scope=row>5</th><td>AGO</td><td>X2017</td><td>  NA</td><td> NA</td></tr>\n",
       "\t<tr><th scope=row>6</th><td>AGO</td><td>X2018</td><td>  NA</td><td> NA</td></tr>\n",
       "</tbody>\n",
       "</table>\n"
      ],
      "text/latex": [
       "A data.frame: 6 × 4\n",
       "\\begin{tabular}{r|llll}\n",
       "  & Country.ISO3 & year & Score & Rank\\\\\n",
       "  & <fct> & <chr> & <dbl> & <dbl>\\\\\n",
       "\\hline\n",
       "\t1 & AGO & X2013 & 23.5 & 135\\\\\n",
       "\t2 & AGO & X2014 & 23.8 & 135\\\\\n",
       "\t3 & AGO & X2015 & 26.2 & 120\\\\\n",
       "\t4 & AGO & X2016 &   NA &  NA\\\\\n",
       "\t5 & AGO & X2017 &   NA &  NA\\\\\n",
       "\t6 & AGO & X2018 &   NA &  NA\\\\\n",
       "\\end{tabular}\n"
      ],
      "text/markdown": [
       "\n",
       "A data.frame: 6 × 4\n",
       "\n",
       "| <!--/--> | Country.ISO3 &lt;fct&gt; | year &lt;chr&gt; | Score &lt;dbl&gt; | Rank &lt;dbl&gt; |\n",
       "|---|---|---|---|---|\n",
       "| 1 | AGO | X2013 | 23.5 | 135 |\n",
       "| 2 | AGO | X2014 | 23.8 | 135 |\n",
       "| 3 | AGO | X2015 | 26.2 | 120 |\n",
       "| 4 | AGO | X2016 |   NA |  NA |\n",
       "| 5 | AGO | X2017 |   NA |  NA |\n",
       "| 6 | AGO | X2018 |   NA |  NA |\n",
       "\n"
      ],
      "text/plain": [
       "  Country.ISO3 year  Score Rank\n",
       "1 AGO          X2013 23.5  135 \n",
       "2 AGO          X2014 23.8  135 \n",
       "3 AGO          X2015 26.2  120 \n",
       "4 AGO          X2016   NA   NA \n",
       "5 AGO          X2017   NA   NA \n",
       "6 AGO          X2018   NA   NA "
      ]
     },
     "metadata": {},
     "output_type": "display_data"
    }
   ],
   "source": [
    "gii <- read.csv(\"./gii_analysis/gii_2013_2020.csv\")\n",
    "# filter out the rows where the indicator is \"Global Innovation Index\" and the subindicator type is \"Score\"\n",
    "gii_score <- gii %>% filter(Indicator == \"Global Innovation Index\", Subindicator.Type == \"Score (0-100)\")\n",
    "gii_score <- gii_score %>%\n",
    "    gather(year, value, X2013:X2020) %>%\n",
    "    select(-Indicator, -Indicator.Id, -Country.Name) %>%\n",
    "    spread(Subindicator.Type, value)\n",
    "gii_score <- rename(gii_score, c(\"Score\" = \"Score (0-100)\"))\n",
    "\n",
    "# filter out the rows where the indicator is \"Global Innovation Index\" and the subindicator type is \"Rank\"\n",
    "gii_rank <- gii %>% filter(Indicator == \"Global Innovation Index\", Subindicator.Type == \"Rank\")\n",
    "gii_rank <- gii_rank %>%\n",
    "    gather(year, value, X2013:X2020) %>%\n",
    "    select(-Indicator, -Country.Name, -Indicator.Id) %>%\n",
    "    spread(Subindicator.Type, value)\n",
    "\n",
    "# merge into one dataframe\n",
    "gii_rank_score <- merge(gii_score, gii_rank, by = c(\"Country.ISO3\", \"year\"))\n",
    "head(gii_rank_score)\n",
    "# remove the X from the year column and convert to integer\n",
    "gii_rank_score$year <- as.integer(gsub(\"X\", \"\", gii_rank_score$year))\n"
   ]
  },
  {
   "cell_type": "code",
   "execution_count": 5,
   "id": "8fb0922d",
   "metadata": {
    "vscode": {
     "languageId": "r"
    }
   },
   "outputs": [],
   "source": [
    "# merge gii_rank_score with wdi_indicators\n",
    "gii_wdi <- gii_rank_score %>% right_join(wdi_indicators, by = c(\"Country.ISO3\" = \"Country Code\", \"year\" = \"year\"))\n",
    "# rename the columns\n",
    "gii_wdi <- gii_wdi %>%\n",
    "    rename(c(\"CountryCode\" = \"Country.ISO3\", \"Year\" = \"year\", \"Edu\" = \"PCT Tertiary Education\", \"Mig\" = \"Net Migration\", \"EduExp\" = \"Education Expenditure % of GDP\", \"TotEmp\" = \"Total Employment\")) %>%\n",
    "    select(\"Year\", \"CountryCode\", \"Score\", \"Rank\", \"Edu\", \"Mig\", \"EduExp\", \"TotEmp\")\n",
    "\n",
    "# write out gii_wdi to csv if it doesn't already exist\n",
    "if (!file.exists(\"./gii_analysis/gii_wdi.csv\")) write.csv(gii_wdi, \"./gii_analysis/gii_wdi.csv\")\n",
    "\n",
    "# lag everything.\n",
    "gii_wdi <- gii_wdi %>%\n",
    "    group_by(CountryCode) %>%\n",
    "    mutate(lag.Mig01 = lag(Mig, n = 1, default = NA)) %>%\n",
    "    mutate(lag.Mig05 = lag(Mig, n = 5, default = NA)) %>%\n",
    "    mutate(lag.Mig10 = lag(Mig, n = 10, default = NA)) %>%\n",
    "    mutate(lag.Mig20 = lag(Mig, n = 20, default = NA)) %>%\n",
    "    mutate(lag.Edu01 = lag(Edu, n = 1, default = NA)) %>%\n",
    "    mutate(lag.Edu05 = lag(Edu, n = 5, default = NA)) %>%\n",
    "    mutate(lag.Edu10 = lag(Edu, n = 10, default = NA)) %>%\n",
    "    mutate(lag.Edu20 = lag(Edu, n = 20, default = NA)) %>%\n",
    "    mutate(lag.EduExp01 = lag(EduExp, n = 1, default = NA)) %>%\n",
    "    mutate(lag.EduExp05 = lag(EduExp, n = 5, default = NA)) %>%\n",
    "    mutate(lag.EduExp10 = lag(EduExp, n = 10, default = NA)) %>%\n",
    "    mutate(lag.EduExp20 = lag(EduExp, n = 20, default = NA)) %>%\n",
    "    mutate(lag.TotEmp01 = lag(TotEmp, n = 1, default = NA)) %>%\n",
    "    mutate(lag.TotEmp05 = lag(TotEmp, n = 5, default = NA)) %>%\n",
    "    mutate(lag.TotEmp10 = lag(TotEmp, n = 10, default = NA)) %>%\n",
    "    mutate(lag.TotEmp20 = lag(TotEmp, n = 20, default = NA))"
   ]
  },
  {
   "cell_type": "code",
   "execution_count": 6,
   "id": "22d186db",
   "metadata": {
    "vscode": {
     "languageId": "r"
    }
   },
   "outputs": [
    {
     "data": {
      "text/html": [
       "276"
      ],
      "text/latex": [
       "276"
      ],
      "text/markdown": [
       "276"
      ],
      "text/plain": [
       "[1] 276"
      ]
     },
     "metadata": {},
     "output_type": "display_data"
    },
    {
     "data": {
      "text/plain": [
       "\n",
       "Call:\n",
       "lm(formula = Score ~ lag.Mig01 + lag.Edu01 + lag.TotEmp01 + lag.EduExp01, \n",
       "    data = gii_wdi)\n",
       "\n",
       "Residuals:\n",
       "     Min       1Q   Median       3Q      Max \n",
       "-28.4685  -4.7542  -0.3441   4.8511  16.7390 \n",
       "\n",
       "Coefficients:\n",
       "                 Estimate   Std. Error t value             Pr(>|t|)    \n",
       "(Intercept)  16.846049515  3.949533597   4.265      0.0000276039206 ***\n",
       "lag.Mig01     0.000010150  0.000002526   4.018      0.0000761950429 ***\n",
       "lag.Edu01     0.750243273  0.056476255  13.284 < 0.0000000000000002 ***\n",
       "lag.TotEmp01 -0.023602891  0.057828929  -0.408                0.683    \n",
       "lag.EduExp01  2.240464484  0.331121699   6.766      0.0000000000813 ***\n",
       "---\n",
       "Signif. codes:  0 ‘***’ 0.001 ‘**’ 0.01 ‘*’ 0.05 ‘.’ 0.1 ‘ ’ 1\n",
       "\n",
       "Residual standard error: 7.787 on 271 degrees of freedom\n",
       "  (16216 observations deleted due to missingness)\n",
       "Multiple R-squared:  0.5718,\tAdjusted R-squared:  0.5655 \n",
       "F-statistic: 90.46 on 4 and 271 DF,  p-value: < 0.00000000000000022\n"
      ]
     },
     "metadata": {},
     "output_type": "display_data"
    }
   ],
   "source": [
    "lag1 <- lm(Score ~ lag.Mig01 + lag.Edu01 + lag.TotEmp01 + lag.EduExp01, data = gii_wdi)\n",
    "nobs(lag1)\n",
    "summary(lag1)"
   ]
  },
  {
   "cell_type": "code",
   "execution_count": 7,
   "id": "def916a5",
   "metadata": {
    "vscode": {
     "languageId": "r"
    }
   },
   "outputs": [
    {
     "data": {
      "text/html": [
       "118"
      ],
      "text/latex": [
       "118"
      ],
      "text/markdown": [
       "118"
      ],
      "text/plain": [
       "[1] 118"
      ]
     },
     "metadata": {},
     "output_type": "display_data"
    },
    {
     "data": {
      "text/plain": [
       "\n",
       "Call:\n",
       "lm(formula = Score ~ lag.Mig05 + lag.Edu05 + lag.TotEmp05 + lag.EduExp05, \n",
       "    data = gii_wdi)\n",
       "\n",
       "Residuals:\n",
       "     Min       1Q   Median       3Q      Max \n",
       "-28.1564  -4.9021  -0.7819   3.9213  16.1670 \n",
       "\n",
       "Coefficients:\n",
       "                 Estimate   Std. Error t value             Pr(>|t|)    \n",
       "(Intercept)  17.845972056  5.495314976   3.247             0.001533 ** \n",
       "lag.Mig05     0.000010200  0.000004208   2.424             0.016933 *  \n",
       "lag.Edu05     0.863009090  0.088769062   9.722 < 0.0000000000000002 ***\n",
       "lag.TotEmp05 -0.061208720  0.084041610  -0.728             0.467928    \n",
       "lag.EduExp05  1.959979844  0.506086007   3.873             0.000181 ***\n",
       "---\n",
       "Signif. codes:  0 ‘***’ 0.001 ‘**’ 0.01 ‘*’ 0.05 ‘.’ 0.1 ‘ ’ 1\n",
       "\n",
       "Residual standard error: 7.576 on 113 degrees of freedom\n",
       "  (16374 observations deleted due to missingness)\n",
       "Multiple R-squared:  0.6173,\tAdjusted R-squared:  0.6037 \n",
       "F-statistic: 45.57 on 4 and 113 DF,  p-value: < 0.00000000000000022\n"
      ]
     },
     "metadata": {},
     "output_type": "display_data"
    }
   ],
   "source": [
    "lag05 <- lm(Score ~ lag.Mig05 + lag.Edu05 + lag.TotEmp05 + lag.EduExp05, data = gii_wdi)\n",
    "nobs(lag05)\n",
    "summary(lag05)"
   ]
  },
  {
   "cell_type": "code",
   "execution_count": 8,
   "id": "0b1de4d3",
   "metadata": {
    "vscode": {
     "languageId": "r"
    }
   },
   "outputs": [
    {
     "ename": "ERROR",
     "evalue": "Error in lm.fit(x, y, offset = offset, singular.ok = singular.ok, ...): 0 (non-NA) cases\n",
     "output_type": "error",
     "traceback": [
      "Error in lm.fit(x, y, offset = offset, singular.ok = singular.ok, ...): 0 (non-NA) cases\nTraceback:\n",
      "1. lm(Score ~ lag.Mig10 + lag.Edu10 + lag.TotEmp10 + lag.EduExp10, \n .     data = gii_wdi)",
      "2. lm.fit(x, y, offset = offset, singular.ok = singular.ok, ...)",
      "3. stop(\"0 (non-NA) cases\")"
     ]
    }
   ],
   "source": [
    "lag10 <- lm(Score ~ lag.Mig10 + lag.Edu10 + lag.TotEmp10 + lag.EduExp10, data = gii_wdi)\n",
    "nobs(lag10)\n",
    "summary(lag10)"
   ]
  },
  {
   "cell_type": "code",
   "execution_count": 9,
   "id": "77f0beec",
   "metadata": {
    "vscode": {
     "languageId": "r"
    }
   },
   "outputs": [
    {
     "ename": "ERROR",
     "evalue": "Error in lm.fit(x, y, offset = offset, singular.ok = singular.ok, ...): 0 (non-NA) cases\n",
     "output_type": "error",
     "traceback": [
      "Error in lm.fit(x, y, offset = offset, singular.ok = singular.ok, ...): 0 (non-NA) cases\nTraceback:\n",
      "1. lm(Score ~ lag.Mig20 + lag.Edu20 + lag.TotEmp20 + lag.EduExp20, \n .     data = gii_wdi)",
      "2. lm.fit(x, y, offset = offset, singular.ok = singular.ok, ...)",
      "3. stop(\"0 (non-NA) cases\")"
     ]
    }
   ],
   "source": [
    "lag20 <- lm(Score ~ lag.Mig20 + lag.Edu20 + lag.TotEmp20 + lag.EduExp20, data = gii_wdi)\n",
    "nobs(lag20)\n",
    "summary(lag20)"
   ]
  },
  {
   "cell_type": "code",
   "execution_count": 11,
   "id": "82d7d0b1-eb0f-41c0-891a-aa2678a41ddd",
   "metadata": {},
   "outputs": [
    {
     "data": {
      "text/html": [
       "326"
      ],
      "text/latex": [
       "326"
      ],
      "text/markdown": [
       "326"
      ],
      "text/plain": [
       "[1] 326"
      ]
     },
     "metadata": {},
     "output_type": "display_data"
    },
    {
     "data": {
      "text/plain": [
       "\n",
       "Call:\n",
       "lm(formula = Score ~ Mig + Edu + Mig:Edu, data = gii_wdi)\n",
       "\n",
       "Residuals:\n",
       "     Min       1Q   Median       3Q      Max \n",
       "-23.4586  -5.3258  -0.8875   5.4187  19.0858 \n",
       "\n",
       "Coefficients:\n",
       "                 Estimate    Std. Error t value            Pr(>|t|)    \n",
       "(Intercept) 25.4191850458  1.0844105193  23.441 <0.0000000000000002 ***\n",
       "Mig          0.0000196087  0.0000076642   2.558               0.011 *  \n",
       "Edu          0.7643891871  0.0516739137  14.793 <0.0000000000000002 ***\n",
       "Mig:Edu     -0.0000002212  0.0000002634  -0.840               0.402    \n",
       "---\n",
       "Signif. codes:  0 ‘***’ 0.001 ‘**’ 0.01 ‘*’ 0.05 ‘.’ 0.1 ‘ ’ 1\n",
       "\n",
       "Residual standard error: 8.318 on 322 degrees of freedom\n",
       "  (16166 observations deleted due to missingness)\n",
       "Multiple R-squared:  0.4893,\tAdjusted R-squared:  0.4845 \n",
       "F-statistic: 102.8 on 3 and 322 DF,  p-value: < 0.00000000000000022\n"
      ]
     },
     "metadata": {},
     "output_type": "display_data"
    }
   ],
   "source": [
    "model4 <- lm(Score ~ Mig + Edu + Mig:Edu, data = gii_wdi)\n",
    "nobs(model4)\n",
    "summary(model4)"
   ]
  },
  {
   "cell_type": "code",
   "execution_count": 13,
   "id": "4aa0ac75-12e9-4e4e-9187-66df792f6b99",
   "metadata": {
    "tags": []
   },
   "outputs": [
    {
     "data": {
      "text/html": [
       "945"
      ],
      "text/latex": [
       "945"
      ],
      "text/markdown": [
       "945"
      ],
      "text/plain": [
       "[1] 945"
      ]
     },
     "metadata": {},
     "output_type": "display_data"
    },
    {
     "data": {
      "text/plain": [
       "\n",
       "Call:\n",
       "lm(formula = Score ~ Mig + EduExp + Mig:EduExp, data = gii_wdi)\n",
       "\n",
       "Residuals:\n",
       "    Min      1Q  Median      3Q     Max \n",
       "-29.808  -8.308  -1.933   7.548  30.754 \n",
       "\n",
       "Coefficients:\n",
       "                Estimate   Std. Error t value             Pr(>|t|)    \n",
       "(Intercept) 28.387074178  1.108628924  25.606 < 0.0000000000000002 ***\n",
       "Mig         -0.000007655  0.000004502  -1.700               0.0894 .  \n",
       "EduExp       1.743836346  0.227923417   7.651   0.0000000000000493 ***\n",
       "Mig:EduExp   0.000005487  0.000001115   4.922   0.0000010103192624 ***\n",
       "---\n",
       "Signif. codes:  0 ‘***’ 0.001 ‘**’ 0.01 ‘*’ 0.05 ‘.’ 0.1 ‘ ’ 1\n",
       "\n",
       "Residual standard error: 10.86 on 941 degrees of freedom\n",
       "  (15547 observations deleted due to missingness)\n",
       "Multiple R-squared:  0.1536,\tAdjusted R-squared:  0.1509 \n",
       "F-statistic: 56.93 on 3 and 941 DF,  p-value: < 0.00000000000000022\n"
      ]
     },
     "metadata": {},
     "output_type": "display_data"
    }
   ],
   "source": [
    "model5 <- lm(Score ~ Mig + EduExp + Mig:EduExp, data = gii_wdi)\n",
    "nobs(model5)\n",
    "summary(model5)"
   ]
  },
  {
   "cell_type": "code",
   "execution_count": 6,
   "id": "88ea41f3-433d-4101-8cbe-26fe3959a649",
   "metadata": {},
   "outputs": [
    {
     "ename": "ERROR",
     "evalue": "Error in loadNamespace(name): there is no package called ‘car’\n",
     "output_type": "error",
     "traceback": [
      "Error in loadNamespace(name): there is no package called ‘car’\nTraceback:\n",
      "1. car::vif",
      "2. getExportedValue(pkg, name)",
      "3. asNamespace(ns)",
      "4. getNamespace(ns)",
      "5. loadNamespace(name)",
      "6. withRestarts(stop(cond), retry_loadNamespace = function() NULL)",
      "7. withOneRestart(expr, restarts[[1L]])",
      "8. doWithOneRestart(return(expr), restart)"
     ]
    }
   ],
   "source": [
    "car::vif(model5)"
   ]
  },
  {
   "cell_type": "code",
   "execution_count": null,
   "id": "8afefbdf-6395-459c-98fb-70529e8e1863",
   "metadata": {},
   "outputs": [],
   "source": []
  }
 ],
 "metadata": {
  "kernelspec": {
   "display_name": "R",
   "language": "R",
   "name": "ir"
  },
  "language_info": {
   "codemirror_mode": "r",
   "file_extension": ".r",
   "mimetype": "text/x-r-source",
   "name": "R",
   "pygments_lexer": "r",
   "version": "3.6.3"
  },
  "vscode": {
   "interpreter": {
    "hash": "1a1af0ee75eeea9e2e1ee996c87e7a2b11a0bebd85af04bb136d915cefc0abce"
   }
  }
 },
 "nbformat": 4,
 "nbformat_minor": 5
}
